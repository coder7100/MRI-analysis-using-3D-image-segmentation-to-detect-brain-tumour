{
  "cells": [
    {
      "cell_type": "code",
      "execution_count": null,
      "metadata": {
        "_cell_guid": "b1076dfc-b9ad-4769-8c92-a6c4dae69d19",
        "_uuid": "8f2839f25d086af736a60e9eeb907d3b93b6e0e5",
        "execution": {
          "iopub.execute_input": "2021-03-26T15:31:57.378231Z",
          "iopub.status.busy": "2021-03-26T15:31:57.377569Z",
          "iopub.status.idle": "2021-03-26T15:31:58.756776Z",
          "shell.execute_reply": "2021-03-26T15:31:58.755756Z"
        },
        "papermill": {
          "duration": 1.439178,
          "end_time": "2021-03-26T15:31:58.757054",
          "exception": false,
          "start_time": "2021-03-26T15:31:57.317876",
          "status": "completed"
        },
        "tags": [],
        "id": "MX5yP0lo_SKm"
      },
      "outputs": [],
      "source": [
        "\n",
        "\n",
        "import numpy as np # linear algebra\n",
        "np.random.seed(1337)\n",
        "import pandas as pd # data processing, CSV file I/O (e.g. pd.read_csv)\n",
        "\n",
        "# Input data files are available in the read-only \"../input/\" directory\n",
        "# For example, running this (by clicking run or pressing Shift+Enter) will list all files under the input directory\n",
        "\n",
        "import os\n",
        "for dirname, _, filenames in os.walk('/kaggle/input'):\n",
        "    for filename in filenames:\n",
        "        print(os.path.join(dirname, filename))\n",
        "\n",
        "# You can write up to 20GB to the current directory (/kaggle/working/) that gets preserved as output when you create a version using \"Save & Run All\" \n",
        "# You can also write temporary files to /kaggle/temp/, but they won't be saved outside of the current session"
      ]
    },
    {
      "cell_type": "markdown",
      "metadata": {
        "papermill": {
          "duration": 0.060339,
          "end_time": "2021-03-26T15:31:58.886228",
          "exception": false,
          "start_time": "2021-03-26T15:31:58.825889",
          "status": "completed"
        },
        "tags": [],
        "id": "uZ-FN6gh_SKr"
      },
      "source": [
        "# Importing Libraries"
      ]
    },
    {
      "cell_type": "code",
      "execution_count": null,
      "metadata": {
        "execution": {
          "iopub.execute_input": "2021-03-26T15:31:59.012851Z",
          "iopub.status.busy": "2021-03-26T15:31:59.011865Z",
          "iopub.status.idle": "2021-03-26T15:32:06.020958Z",
          "shell.execute_reply": "2021-03-26T15:32:06.019985Z"
        },
        "papermill": {
          "duration": 7.074327,
          "end_time": "2021-03-26T15:32:06.021099",
          "exception": false,
          "start_time": "2021-03-26T15:31:58.946772",
          "status": "completed"
        },
        "tags": [],
        "id": "DuSQhq8q_SKs"
      },
      "outputs": [],
      "source": [
        "import tensorflow as tf\n",
        "import matplotlib.pyplot as plt\n",
        "import PIL\n",
        "import pathlib\n",
        "import cv2\n",
        "from tensorflow.keras import layers\n",
        "from sklearn.model_selection import KFold, StratifiedKFold\n",
        "from tensorflow.keras.preprocessing.image import ImageDataGenerator\n",
        "import glob\n",
        "import csv\n",
        "from sklearn.model_selection import train_test_split\n",
        "from sklearn.metrics import classification_report"
      ]
    },
    {
      "cell_type": "code",
      "execution_count": null,
      "metadata": {
        "execution": {
          "iopub.execute_input": "2021-03-26T15:32:06.145998Z",
          "iopub.status.busy": "2021-03-26T15:32:06.145416Z",
          "iopub.status.idle": "2021-03-26T15:32:06.149934Z",
          "shell.execute_reply": "2021-03-26T15:32:06.149493Z"
        },
        "papermill": {
          "duration": 0.067851,
          "end_time": "2021-03-26T15:32:06.150042",
          "exception": false,
          "start_time": "2021-03-26T15:32:06.082191",
          "status": "completed"
        },
        "tags": [],
        "id": "CYgslTmj_SKt",
        "outputId": "7f1f8cb4-e19d-4879-cb03-9111d83c5a54",
        "colab": {
          "base_uri": "https://localhost:8080/"
        }
      },
      "outputs": [
        {
          "output_type": "stream",
          "name": "stdout",
          "text": [
            "2.7.0\n"
          ]
        }
      ],
      "source": [
        "print(tf.__version__)"
      ]
    },
    {
      "cell_type": "markdown",
      "metadata": {
        "papermill": {
          "duration": 0.059422,
          "end_time": "2021-03-26T15:32:06.269376",
          "exception": false,
          "start_time": "2021-03-26T15:32:06.209954",
          "status": "completed"
        },
        "tags": [],
        "id": "EutPJ_rx_SKt"
      },
      "source": [
        "# Preparing dataset"
      ]
    },
    {
      "cell_type": "markdown",
      "metadata": {
        "papermill": {
          "duration": 0.060004,
          "end_time": "2021-03-26T15:32:06.390171",
          "exception": false,
          "start_time": "2021-03-26T15:32:06.330167",
          "status": "completed"
        },
        "tags": [],
        "id": "Tra7QYBZ_SKu"
      },
      "source": [
        "Link to the [Dataset being used](https://www.kaggle.com/sartajbhuvaji/brain-tumor-classification-mri)<br>\n",
        "Reference Tutorial for general code: [Image Classification Tutorial](https://www.tensorflow.org/tutorials/images/classification)"
      ]
    },
    {
      "cell_type": "code",
      "execution_count": null,
      "metadata": {
        "execution": {
          "iopub.execute_input": "2021-03-26T15:32:06.516076Z",
          "iopub.status.busy": "2021-03-26T15:32:06.515396Z",
          "iopub.status.idle": "2021-03-26T15:32:06.551582Z",
          "shell.execute_reply": "2021-03-26T15:32:06.550912Z"
        },
        "papermill": {
          "duration": 0.101483,
          "end_time": "2021-03-26T15:32:06.551696",
          "exception": false,
          "start_time": "2021-03-26T15:32:06.450213",
          "status": "completed"
        },
        "tags": [],
        "id": "nQMmU5oq_SKu",
        "outputId": "5b8c09b1-48aa-4fec-912e-c55bac71c22a",
        "colab": {
          "base_uri": "https://localhost:8080/"
        }
      },
      "outputs": [
        {
          "output_type": "stream",
          "name": "stdout",
          "text": [
            "../input/brain-tumor-classification-mri/Training\n",
            "0\n",
            "0\n"
          ]
        }
      ],
      "source": [
        "#path_data = '../input/brain-mri-images-for-brain-tumor-detection/brain_tumor_dataset'\n",
        "path_test = '../input/brain-tumor-classification-mri/Testing'\n",
        "path_data = '../input/brain-tumor-classification-mri/Training'\n",
        "\n",
        "\n",
        "path_test = pathlib.Path(path_test)\n",
        "path_data = pathlib.Path(path_data)\n",
        "print(path_data)\n",
        "\n",
        "image_count = len(list(path_data.glob('*/*.jpg')))\n",
        "print(image_count)\n",
        "test_image_count = len(list(path_test.glob('*/*.jpg')))\n",
        "print(test_image_count)"
      ]
    },
    {
      "cell_type": "markdown",
      "metadata": {
        "papermill": {
          "duration": 0.06043,
          "end_time": "2021-03-26T15:32:06.673807",
          "exception": false,
          "start_time": "2021-03-26T15:32:06.613377",
          "status": "completed"
        },
        "tags": [],
        "id": "1H40kUt1_SKv"
      },
      "source": [
        "#### Image of a brain with tumor"
      ]
    },
    {
      "cell_type": "code",
      "execution_count": null,
      "metadata": {
        "execution": {
          "iopub.execute_input": "2021-03-26T15:32:06.798731Z",
          "iopub.status.busy": "2021-03-26T15:32:06.798174Z",
          "iopub.status.idle": "2021-03-26T15:32:06.896090Z",
          "shell.execute_reply": "2021-03-26T15:32:06.896547Z"
        },
        "papermill": {
          "duration": 0.16253,
          "end_time": "2021-03-26T15:32:06.896677",
          "exception": false,
          "start_time": "2021-03-26T15:32:06.734147",
          "status": "completed"
        },
        "tags": [],
        "id": "6Z_Wtgwi_SKv",
        "outputId": "cf1e2a84-0cb8-40a3-a633-5056155589c2",
        "colab": {
          "base_uri": "https://localhost:8080/",
          "height": 222
        }
      },
      "outputs": [
        {
          "output_type": "error",
          "ename": "IndexError",
          "evalue": "ignored",
          "traceback": [
            "\u001b[0;31m---------------------------------------------------------------------------\u001b[0m",
            "\u001b[0;31mIndexError\u001b[0m                                Traceback (most recent call last)",
            "\u001b[0;32m<ipython-input-5-328f80ac5005>\u001b[0m in \u001b[0;36m<module>\u001b[0;34m()\u001b[0m\n\u001b[1;32m      1\u001b[0m \u001b[0mtumors\u001b[0m \u001b[0;34m=\u001b[0m \u001b[0mlist\u001b[0m\u001b[0;34m(\u001b[0m\u001b[0mpath_data\u001b[0m\u001b[0;34m.\u001b[0m\u001b[0mglob\u001b[0m\u001b[0;34m(\u001b[0m\u001b[0;34m'glioma_tumor/*'\u001b[0m\u001b[0;34m)\u001b[0m\u001b[0;34m)\u001b[0m\u001b[0;34m\u001b[0m\u001b[0;34m\u001b[0m\u001b[0m\n\u001b[0;32m----> 2\u001b[0;31m \u001b[0mprint\u001b[0m\u001b[0;34m(\u001b[0m\u001b[0mtumors\u001b[0m\u001b[0;34m[\u001b[0m\u001b[0;36m1\u001b[0m\u001b[0;34m]\u001b[0m\u001b[0;34m)\u001b[0m\u001b[0;34m\u001b[0m\u001b[0;34m\u001b[0m\u001b[0m\n\u001b[0m\u001b[1;32m      3\u001b[0m \u001b[0mimg1\u001b[0m \u001b[0;34m=\u001b[0m \u001b[0mPIL\u001b[0m\u001b[0;34m.\u001b[0m\u001b[0mImage\u001b[0m\u001b[0;34m.\u001b[0m\u001b[0mopen\u001b[0m\u001b[0;34m(\u001b[0m\u001b[0mstr\u001b[0m\u001b[0;34m(\u001b[0m\u001b[0mtumors\u001b[0m\u001b[0;34m[\u001b[0m\u001b[0;36m0\u001b[0m\u001b[0;34m]\u001b[0m\u001b[0;34m)\u001b[0m\u001b[0;34m)\u001b[0m\u001b[0;34m\u001b[0m\u001b[0;34m\u001b[0m\u001b[0m\n\u001b[1;32m      4\u001b[0m \u001b[0mimg1\u001b[0m\u001b[0;34m\u001b[0m\u001b[0;34m\u001b[0m\u001b[0m\n",
            "\u001b[0;31mIndexError\u001b[0m: list index out of range"
          ]
        }
      ],
      "source": [
        "tumors = list(path_data.glob('glioma_tumor/*'))\n",
        "print(tumors[1])\n",
        "img1 = PIL.Image.open(str(tumors[0]))\n",
        "img1"
      ]
    },
    {
      "cell_type": "markdown",
      "metadata": {
        "papermill": {
          "duration": 0.064165,
          "end_time": "2021-03-26T15:32:07.024811",
          "exception": false,
          "start_time": "2021-03-26T15:32:06.960646",
          "status": "completed"
        },
        "tags": [],
        "id": "K9TECwUv_SKw"
      },
      "source": [
        "#### Image of a brain with no tumor"
      ]
    },
    {
      "cell_type": "code",
      "execution_count": null,
      "metadata": {
        "execution": {
          "iopub.execute_input": "2021-03-26T15:32:07.158793Z",
          "iopub.status.busy": "2021-03-26T15:32:07.158224Z",
          "iopub.status.idle": "2021-03-26T15:32:07.196799Z",
          "shell.execute_reply": "2021-03-26T15:32:07.197495Z"
        },
        "papermill": {
          "duration": 0.106774,
          "end_time": "2021-03-26T15:32:07.197661",
          "exception": false,
          "start_time": "2021-03-26T15:32:07.090887",
          "status": "completed"
        },
        "tags": [],
        "id": "F-WS8UVt_SKx"
      },
      "outputs": [],
      "source": [
        "not_tumors = list(path_data.glob('no_tumor/*'))\n",
        "img2 = PIL.Image.open(str(not_tumors[0]))\n",
        "img2"
      ]
    },
    {
      "cell_type": "code",
      "execution_count": null,
      "metadata": {
        "execution": {
          "iopub.execute_input": "2021-03-26T15:32:07.332402Z",
          "iopub.status.busy": "2021-03-26T15:32:07.331903Z",
          "iopub.status.idle": "2021-03-26T15:32:07.371356Z",
          "shell.execute_reply": "2021-03-26T15:32:07.370698Z"
        },
        "papermill": {
          "duration": 0.108445,
          "end_time": "2021-03-26T15:32:07.371475",
          "exception": false,
          "start_time": "2021-03-26T15:32:07.263030",
          "status": "completed"
        },
        "tags": [],
        "id": "izLsGe9G_SKx"
      },
      "outputs": [],
      "source": [
        "img_opencv = cv2.imread(str(not_tumors[0]))\n",
        "print(img_opencv.shape)\n",
        "img_opencv1 = cv2.imread(str(tumors[0]))\n",
        "print(img_opencv1.shape)"
      ]
    },
    {
      "cell_type": "markdown",
      "metadata": {
        "papermill": {
          "duration": 0.065643,
          "end_time": "2021-03-26T15:32:07.502990",
          "exception": false,
          "start_time": "2021-03-26T15:32:07.437347",
          "status": "completed"
        },
        "tags": [],
        "id": "i4kgc7iz_SKx"
      },
      "source": [
        "### Creating Testing Validation and Testing Sets"
      ]
    },
    {
      "cell_type": "code",
      "execution_count": null,
      "metadata": {
        "execution": {
          "iopub.execute_input": "2021-03-26T15:32:07.646337Z",
          "iopub.status.busy": "2021-03-26T15:32:07.645832Z",
          "iopub.status.idle": "2021-03-26T15:32:07.649804Z",
          "shell.execute_reply": "2021-03-26T15:32:07.649263Z"
        },
        "papermill": {
          "duration": 0.074312,
          "end_time": "2021-03-26T15:32:07.649919",
          "exception": false,
          "start_time": "2021-03-26T15:32:07.575607",
          "status": "completed"
        },
        "tags": [],
        "id": "QWvZx_1H_SKy"
      },
      "outputs": [],
      "source": [
        "batch = 32\n",
        "img_height = 250\n",
        "img_width = 250"
      ]
    },
    {
      "cell_type": "code",
      "execution_count": null,
      "metadata": {
        "execution": {
          "iopub.execute_input": "2021-03-26T15:32:07.785244Z",
          "iopub.status.busy": "2021-03-26T15:32:07.784498Z",
          "iopub.status.idle": "2021-03-26T15:32:11.645590Z",
          "shell.execute_reply": "2021-03-26T15:32:11.643954Z"
        },
        "papermill": {
          "duration": 3.93029,
          "end_time": "2021-03-26T15:32:11.645783",
          "exception": false,
          "start_time": "2021-03-26T15:32:07.715493",
          "status": "completed"
        },
        "tags": [],
        "id": "BnyVk2lo_SKy"
      },
      "outputs": [],
      "source": [
        "train = tf.keras.preprocessing.image_dataset_from_directory(\n",
        "path_data,\n",
        "validation_split = 0.2,\n",
        "subset = 'training',\n",
        "seed = 42,\n",
        "image_size  =(img_height,img_width),\n",
        "batch_size = batch)"
      ]
    },
    {
      "cell_type": "code",
      "execution_count": null,
      "metadata": {
        "execution": {
          "iopub.execute_input": "2021-03-26T15:32:11.793401Z",
          "iopub.status.busy": "2021-03-26T15:32:11.792540Z",
          "iopub.status.idle": "2021-03-26T15:32:12.018255Z",
          "shell.execute_reply": "2021-03-26T15:32:12.017321Z"
        },
        "papermill": {
          "duration": 0.302027,
          "end_time": "2021-03-26T15:32:12.018378",
          "exception": false,
          "start_time": "2021-03-26T15:32:11.716351",
          "status": "completed"
        },
        "tags": [],
        "id": "vhUZz9e7_SKy"
      },
      "outputs": [],
      "source": [
        "val = tf.keras.preprocessing.image_dataset_from_directory(\n",
        "path_data,\n",
        "validation_split = 0.2,\n",
        "subset = 'validation',\n",
        "seed = 42,\n",
        "image_size = (img_height,img_width),\n",
        "batch_size = batch)"
      ]
    },
    {
      "cell_type": "code",
      "execution_count": null,
      "metadata": {
        "execution": {
          "iopub.execute_input": "2021-03-26T15:32:12.179328Z",
          "iopub.status.busy": "2021-03-26T15:32:12.178820Z",
          "iopub.status.idle": "2021-03-26T15:32:12.298709Z",
          "shell.execute_reply": "2021-03-26T15:32:12.299090Z"
        },
        "papermill": {
          "duration": 0.194095,
          "end_time": "2021-03-26T15:32:12.299234",
          "exception": false,
          "start_time": "2021-03-26T15:32:12.105139",
          "status": "completed"
        },
        "tags": [],
        "id": "kb43tkqS_SKz"
      },
      "outputs": [],
      "source": [
        "test = tf.keras.preprocessing.image_dataset_from_directory(\n",
        "path_test,\n",
        "seed = 42,\n",
        "image_size = (img_height,img_width),\n",
        "batch_size = batch)"
      ]
    },
    {
      "cell_type": "code",
      "execution_count": null,
      "metadata": {
        "execution": {
          "iopub.execute_input": "2021-03-26T15:32:12.443408Z",
          "iopub.status.busy": "2021-03-26T15:32:12.442789Z",
          "iopub.status.idle": "2021-03-26T15:32:12.448170Z",
          "shell.execute_reply": "2021-03-26T15:32:12.447719Z"
        },
        "papermill": {
          "duration": 0.080015,
          "end_time": "2021-03-26T15:32:12.448283",
          "exception": false,
          "start_time": "2021-03-26T15:32:12.368268",
          "status": "completed"
        },
        "tags": [],
        "id": "4lefF96W_SKz"
      },
      "outputs": [],
      "source": [
        "print(train.class_names)\n",
        "print(val.class_names)\n",
        "print(test.class_names)"
      ]
    },
    {
      "cell_type": "code",
      "execution_count": null,
      "metadata": {
        "execution": {
          "iopub.execute_input": "2021-03-26T15:32:12.595219Z",
          "iopub.status.busy": "2021-03-26T15:32:12.593967Z",
          "iopub.status.idle": "2021-03-26T15:32:17.589477Z",
          "shell.execute_reply": "2021-03-26T15:32:17.589027Z"
        },
        "papermill": {
          "duration": 5.070987,
          "end_time": "2021-03-26T15:32:17.589618",
          "exception": false,
          "start_time": "2021-03-26T15:32:12.518631",
          "status": "completed"
        },
        "tags": [],
        "id": "L1lvIB3X_SK0"
      },
      "outputs": [],
      "source": [
        "classes = train.class_names\n",
        "plt.figure(figsize = (10,10))\n",
        "for img,label in train.take(1):\n",
        "    for i in range(9):\n",
        "        ax = plt.subplot(3, 3, i + 1)\n",
        "        plt.imshow(img[i].numpy().astype(\"uint8\"))\n",
        "        plt.title(classes[label[i]],\n",
        "                  fontdict = {'fontsize': '19',\n",
        "                              'color': 'white'}\n",
        "                 )\n",
        "        "
      ]
    },
    {
      "cell_type": "code",
      "execution_count": null,
      "metadata": {
        "execution": {
          "iopub.execute_input": "2021-03-26T15:32:17.744862Z",
          "iopub.status.busy": "2021-03-26T15:32:17.744060Z",
          "iopub.status.idle": "2021-03-26T15:32:18.532240Z",
          "shell.execute_reply": "2021-03-26T15:32:18.532825Z"
        },
        "papermill": {
          "duration": 0.866892,
          "end_time": "2021-03-26T15:32:18.533026",
          "exception": false,
          "start_time": "2021-03-26T15:32:17.666134",
          "status": "completed"
        },
        "tags": [],
        "id": "87Dh9OS8_SK0"
      },
      "outputs": [],
      "source": [
        "for image_batch, labels_batch in train:\n",
        "  print(image_batch.shape)\n",
        "  print(labels_batch.shape)\n",
        "  break"
      ]
    },
    {
      "cell_type": "code",
      "execution_count": null,
      "metadata": {
        "execution": {
          "iopub.execute_input": "2021-03-26T15:32:18.688981Z",
          "iopub.status.busy": "2021-03-26T15:32:18.688074Z",
          "iopub.status.idle": "2021-03-26T15:32:18.692308Z",
          "shell.execute_reply": "2021-03-26T15:32:18.691833Z"
        },
        "papermill": {
          "duration": 0.083873,
          "end_time": "2021-03-26T15:32:18.692420",
          "exception": false,
          "start_time": "2021-03-26T15:32:18.608547",
          "status": "completed"
        },
        "tags": [],
        "id": "NFf62Vv__SK0"
      },
      "outputs": [],
      "source": [
        "AUTOTUNE = tf.data.AUTOTUNE\n",
        "\n",
        "train = train.prefetch(buffer_size=AUTOTUNE)\n",
        "val = val.prefetch(buffer_size=AUTOTUNE)\n",
        "test = test.prefetch(buffer_size=AUTOTUNE)"
      ]
    },
    {
      "cell_type": "code",
      "execution_count": null,
      "metadata": {
        "execution": {
          "iopub.execute_input": "2021-03-26T15:32:18.846796Z",
          "iopub.status.busy": "2021-03-26T15:32:18.845990Z",
          "iopub.status.idle": "2021-03-26T15:32:18.861641Z",
          "shell.execute_reply": "2021-03-26T15:32:18.862116Z"
        },
        "papermill": {
          "duration": 0.095501,
          "end_time": "2021-03-26T15:32:18.862255",
          "exception": false,
          "start_time": "2021-03-26T15:32:18.766754",
          "status": "completed"
        },
        "tags": [],
        "id": "WZUfNGpX_SK0"
      },
      "outputs": [],
      "source": [
        "help(test.as_numpy_iterator())"
      ]
    },
    {
      "cell_type": "code",
      "execution_count": null,
      "metadata": {
        "papermill": {
          "duration": 0.07615,
          "end_time": "2021-03-26T15:32:19.013956",
          "exception": false,
          "start_time": "2021-03-26T15:32:18.937806",
          "status": "completed"
        },
        "tags": [],
        "id": "vijN5N8O_SK1"
      },
      "outputs": [],
      "source": [
        ""
      ]
    },
    {
      "cell_type": "markdown",
      "metadata": {
        "papermill": {
          "duration": 0.074419,
          "end_time": "2021-03-26T15:32:19.163374",
          "exception": false,
          "start_time": "2021-03-26T15:32:19.088955",
          "status": "completed"
        },
        "tags": [],
        "id": "0z3ChEKI_SK1"
      },
      "source": [
        "# Helper Functions\n",
        "<a id='helper'></a>\n",
        "<a id ='compare'></a>"
      ]
    },
    {
      "cell_type": "code",
      "execution_count": null,
      "metadata": {
        "execution": {
          "iopub.execute_input": "2021-03-26T15:32:19.321493Z",
          "iopub.status.busy": "2021-03-26T15:32:19.320966Z",
          "iopub.status.idle": "2021-03-26T15:32:19.325057Z",
          "shell.execute_reply": "2021-03-26T15:32:19.324631Z"
        },
        "papermill": {
          "duration": 0.087439,
          "end_time": "2021-03-26T15:32:19.325168",
          "exception": false,
          "start_time": "2021-03-26T15:32:19.237729",
          "status": "completed"
        },
        "tags": [],
        "id": "XjAD-1Tx_SK1"
      },
      "outputs": [],
      "source": [
        "def prediction_label_comparison(model,test):\n",
        "    #Retrieve a batch of images from the test set\n",
        "    image_batch, label_batch = test.as_numpy_iterator().next()\n",
        "    prediction = model.predict_on_batch(image_batch).flatten()\n",
        "\n",
        "    # Apply a sigmoid since our model returns logits\n",
        "    predictions = tf.nn.sigmoid(prediction).numpy()\n",
        "\n",
        "    n = 0\n",
        "    predict = []\n",
        "    while n<=(predictions.shape[0]-4):\n",
        "        pred = np.argmax(predictions[n:n+4]) #Returns the index of the largest element in the selected subarray\n",
        "        n+=4\n",
        "        predict.append(pred)\n",
        "    predict = np.array(predict)\n",
        "\n",
        "    #print('Predictions:\\n',predictions)#.numpy())\n",
        "    print('Labels:\\n', label_batch)\n",
        "    print('Predictions:\\n',predict)\n",
        "    '''\n",
        "    print(predictions.shape)\n",
        "    print(label_batch.shape)\n",
        "    print(predict.shape)\n",
        "    '''\n",
        "\n",
        "    plt.figure(figsize=(10, 10))\n",
        "    for i in range(9):\n",
        "      ax = plt.subplot(3, 3, i + 1)\n",
        "      plt.imshow(image_batch[i].astype(\"uint8\"))\n",
        "      plt.title(classes[predict[i]],fontdict = {'fontsize': '14',\n",
        "                                  'color': 'white'})\n",
        "      plt.axis(\"off\")\n",
        "    return label_batch , predict"
      ]
    },
    {
      "cell_type": "code",
      "execution_count": null,
      "metadata": {
        "execution": {
          "iopub.execute_input": "2021-03-26T15:32:19.482651Z",
          "iopub.status.busy": "2021-03-26T15:32:19.480897Z",
          "iopub.status.idle": "2021-03-26T15:32:19.483192Z",
          "shell.execute_reply": "2021-03-26T15:32:19.483588Z"
        },
        "papermill": {
          "duration": 0.083905,
          "end_time": "2021-03-26T15:32:19.483727",
          "exception": false,
          "start_time": "2021-03-26T15:32:19.399822",
          "status": "completed"
        },
        "tags": [],
        "id": "nHCVPYY9_SK1"
      },
      "outputs": [],
      "source": [
        "def test_tumor(list_test_path,model):\n",
        "    # sunflower_url = 'https://'\n",
        "    # sunflower_path = tf.keras.utils.get_file('name of file', origin=sunflower_url)\n",
        "    for path_name in list_test_path:\n",
        "        test_img_path = path_name\n",
        "\n",
        "\n",
        "        test_image = tf.keras.preprocessing.image.load_img(\n",
        "            test_img_path, target_size=(img_height, img_width)\n",
        "        )\n",
        "        test_array = tf.keras.preprocessing.image.img_to_array(test_image)\n",
        "        test_array = tf.expand_dims(test_array, 0) # Create a batch\n",
        "\n",
        "        predictions = model.predict(test_array)\n",
        "        score = tf.nn.softmax(predictions[0])\n",
        "\n",
        "        print(\n",
        "            \"This image most likely belongs to {} with a {:.2f} percent confidence.\"\n",
        "            .format(classes[np.argmax(score)], 100 * np.max(score))\n",
        "        )"
      ]
    },
    {
      "cell_type": "code",
      "execution_count": null,
      "metadata": {
        "execution": {
          "iopub.execute_input": "2021-03-26T15:32:19.641220Z",
          "iopub.status.busy": "2021-03-26T15:32:19.639474Z",
          "iopub.status.idle": "2021-03-26T15:32:19.641796Z",
          "shell.execute_reply": "2021-03-26T15:32:19.642181Z"
        },
        "papermill": {
          "duration": 0.084078,
          "end_time": "2021-03-26T15:32:19.642311",
          "exception": false,
          "start_time": "2021-03-26T15:32:19.558233",
          "status": "completed"
        },
        "tags": [],
        "id": "giAC8QHV_SK1"
      },
      "outputs": [],
      "source": [
        "def csv_builder(path_data,label_names):\n",
        "    df = pd.DataFrame(columns = ['images','labels'])\n",
        "    for name in label_names:\n",
        "        BASE_DIR = str(path_data)+'/'\n",
        "        #train_folder_glioma = BASE_DIR+'glioma_tumor/'\n",
        "        train_folder_name = BASE_DIR+name+'/'\n",
        "\n",
        "        #train_annotation = BASE_DIR+'annotated_train_data/'\n",
        "\n",
        "        files_in_train = sorted(os.listdir(train_folder_name))\n",
        "        #files_in_annotated = sorted(os.listdir(train_annotation))\n",
        "\n",
        "        image_names =[i for i in files_in_train]\n",
        "\n",
        "        \n",
        "        for x in image_names:\n",
        "            df = df.append({'images':train_folder_name+str(x),'labels':name},ignore_index=True)\n",
        "            #df = df.append({'images':str(x),'labels':name},ignore_index=True)\n",
        "\n",
        "        #df['images']=[train_folder_glioma+str(x) for x in image_names]\n",
        "        #df['labels']=[train_annotation+str(x) for x in images]\n",
        "        #pd.to_csv('files_path.csv', header=None)\n",
        "    return df"
      ]
    },
    {
      "cell_type": "code",
      "execution_count": null,
      "metadata": {
        "execution": {
          "iopub.execute_input": "2021-03-26T15:32:19.798099Z",
          "iopub.status.busy": "2021-03-26T15:32:19.797411Z",
          "iopub.status.idle": "2021-03-26T15:32:19.801127Z",
          "shell.execute_reply": "2021-03-26T15:32:19.800643Z"
        },
        "papermill": {
          "duration": 0.083132,
          "end_time": "2021-03-26T15:32:19.801238",
          "exception": false,
          "start_time": "2021-03-26T15:32:19.718106",
          "status": "completed"
        },
        "tags": [],
        "id": "HCmPsC1v_SK2"
      },
      "outputs": [],
      "source": [
        "def model_inputs(model2,train,val,test):\n",
        "    num_classes = 4\n",
        "    epochs = 15\n",
        "    model2.fit(\n",
        "        train,\n",
        "        validation_data=val,\n",
        "        epochs=epochs,\n",
        "        #callbacks = callback,\n",
        "        shuffle=False,\n",
        "        verbose = 0\n",
        "    )\n",
        "    results = model2.evaluate(test)\n",
        "    return results[0],results[1] , model"
      ]
    },
    {
      "cell_type": "code",
      "execution_count": null,
      "metadata": {
        "execution": {
          "iopub.execute_input": "2021-03-26T15:32:19.964076Z",
          "iopub.status.busy": "2021-03-26T15:32:19.963228Z",
          "iopub.status.idle": "2021-03-26T15:32:19.965455Z",
          "shell.execute_reply": "2021-03-26T15:32:19.965851Z"
        },
        "papermill": {
          "duration": 0.089983,
          "end_time": "2021-03-26T15:32:19.965989",
          "exception": false,
          "start_time": "2021-03-26T15:32:19.876006",
          "status": "completed"
        },
        "tags": [],
        "id": "ei7op_1u_SK2"
      },
      "outputs": [],
      "source": [
        "def cross_validation(n_splits,final_csv,test_csv,img_width,img_height,model):\n",
        "    final_loss = 0\n",
        "    final_acc = 0\n",
        "\n",
        "    '''\n",
        "    Seperating a dataframe for testing data\n",
        "    '''\n",
        "    ##\n",
        "    final_csv = final_csv.sample(frac=1)\n",
        "    ##\n",
        "    Y = final_csv[['labels']]\n",
        "    n = len(Y)\n",
        "    kf = KFold(n_splits = 5)\n",
        "    #skf = StratifiedKFold(n_splits = 5, random_state = 7, shuffle = True) \n",
        "    idg = ImageDataGenerator(#width_shift_range=0.1,\n",
        "#                          height_shift_range=0.1,\n",
        "#                          zoom_range=0.3,\n",
        "#                          fill_mode='nearest',\n",
        "#                          horizontal_flip = True,\n",
        "                         rescale=1./255)\n",
        "    \n",
        "    \n",
        "    \n",
        "    \n",
        "    print('Performing cross validation...')\n",
        "    test = idg.flow_from_dataframe(test_csv,\n",
        "                                       x_col = \"images\",\n",
        "                                       y_col = \"labels\",\n",
        "                                       class_mode = \"sparse\",\n",
        "                                       shuffle = True,\n",
        "                                      target_size = (img_width,img_height),\n",
        "                                      verbose = 0)#,subset='validation')\n",
        "#     test = tf.keras.preprocessing.image_dataset_from_directory(path_test,\n",
        "#                                                                    seed = 42,\n",
        "#                                                                    image_size = (img_height,img_width),\n",
        "#                                                                    batch_size = 32)\n",
        "\n",
        "    for train_index, val_index in kf.split(np.zeros(n),Y):\n",
        "        training_data = final_csv.iloc[train_index]\n",
        "        validation_data = final_csv.iloc[val_index]\n",
        "        train = idg.flow_from_dataframe(training_data,\n",
        "                                        x_col = \"images\",\n",
        "                                        y_col = \"labels\",\n",
        "                                        class_mode = \"sparse\",\n",
        "                                        shuffle = True,\n",
        "                                        subset='training',\n",
        "                                       target_size = (img_width,img_height),\n",
        "                                       verbose = 0)\n",
        "        val = idg.flow_from_dataframe(validation_data,\n",
        "                                      x_col = \"images\",\n",
        "                                      y_col = \"labels\",\n",
        "                                      class_mode = \"sparse\",\n",
        "                                      shuffle = True,\n",
        "                                     target_size = (img_width,img_height),\n",
        "                                     verbose = 0)\t\n",
        "        \n",
        "#         if pretrained == 1:\n",
        "#             # Create the base model from the pre-trained model MobileNet V2\n",
        "#             image_size = (img_width,img_height)\n",
        "#             IMG_SHAPE = image_size + (3,)\n",
        "#             base_model = tf.keras.applications.MobileNetV2(input_shape=IMG_SHAPE,\n",
        "#                                                            include_top=False,\n",
        "#                                                            weights='imagenet')\n",
        "\n",
        "#             base_model.trainable = False\n",
        "#             ##\n",
        "#             image_batch, label_batch = next(iter(train))\n",
        "#             feature_batch = base_model(image_batch)\n",
        "#             print(feature_batch.shape)\n",
        "#             ##\n",
        "#             global_average_layer = tf.keras.layers.GlobalAveragePooling2D()\n",
        "#             feature_batch_average = global_average_layer(feature_batch)\n",
        "#             ##\n",
        "#             prediction_layer = tf.keras.layers.Dense(4)\n",
        "#             prediction_batch = prediction_layer(feature_batch_average)\n",
        "#             ##\n",
        "#             preprocess_input = tf.keras.applications.mobilenet_v2.preprocess_input\n",
        "#             ##\n",
        "#             inputs = tf.keras.Input(shape=(250, 250, 3))\n",
        "#             #x = data_augmentation(inputs)\n",
        "#             x = preprocess_input(inputs)\n",
        "#             x = base_model(x, training=False)\n",
        "#             x = global_average_layer(x)\n",
        "#             x = tf.keras.layers.Dropout(0.2)(x)\n",
        "#             x = tf.keras.layers.Flatten()(x)\n",
        "#             x = tf.keras.layers.Dense(1280,activation='relu')(x)\n",
        "#             outputs = prediction_layer(x)\n",
        "#             model = tf.keras.Model(inputs, outputs)\n",
        "#             ##\n",
        "#             base_learning_rate = 0.0001\n",
        "#             model.compile(optimizer=tf.keras.optimizers.Adam(lr=base_learning_rate),\n",
        "#                           loss=tf.keras.losses.SparseCategoricalCrossentropy(from_logits=True),\n",
        "#                           metrics=['accuracy'])\n",
        "#             ##\n",
        "            \n",
        "        \n",
        "        '''\n",
        "        Passing the preprocessed data for model training\n",
        "        '''\n",
        "        loss,acc,returned_model = model_inputs(model,train,val,test)\n",
        "        final_loss += loss\n",
        "        final_acc += acc\n",
        "    return final_loss/n_splits , final_acc/n_splits , returned_model\n",
        "   "
      ]
    },
    {
      "cell_type": "code",
      "execution_count": null,
      "metadata": {
        "execution": {
          "iopub.execute_input": "2021-03-26T15:32:20.124196Z",
          "iopub.status.busy": "2021-03-26T15:32:20.123661Z",
          "iopub.status.idle": "2021-03-26T15:32:20.140326Z",
          "shell.execute_reply": "2021-03-26T15:32:20.139885Z"
        },
        "papermill": {
          "duration": 0.098592,
          "end_time": "2021-03-26T15:32:20.140438",
          "exception": false,
          "start_time": "2021-03-26T15:32:20.041846",
          "status": "completed"
        },
        "tags": [],
        "id": "-dpIV0ys_SK2"
      },
      "outputs": [],
      "source": [
        "normalization_layer = tf.keras.layers.experimental.preprocessing.Rescaling(1./255)\n",
        "conv_layer_32 = tf.keras.layers.Conv2D(32,(3,3),activation='relu')\n",
        "conv_layer_64 = tf.keras.layers.Conv2D(64,3,activation='relu')\n",
        "conv_layer_16 = tf.keras.layers.Conv2D(16,3,activation='relu')\n",
        "max_pool = tf.keras.layers.MaxPooling2D()\n",
        "callback = tf.keras.callbacks.EarlyStopping(monitor='val_accuracy', patience=5)"
      ]
    },
    {
      "cell_type": "code",
      "execution_count": null,
      "metadata": {
        "execution": {
          "iopub.execute_input": "2021-03-26T15:32:20.298632Z",
          "iopub.status.busy": "2021-03-26T15:32:20.298109Z",
          "iopub.status.idle": "2021-03-26T15:32:20.313252Z",
          "shell.execute_reply": "2021-03-26T15:32:20.312828Z"
        },
        "papermill": {
          "duration": 0.097809,
          "end_time": "2021-03-26T15:32:20.313372",
          "exception": false,
          "start_time": "2021-03-26T15:32:20.215563",
          "status": "completed"
        },
        "tags": [],
        "id": "9V95PwGP_SK3"
      },
      "outputs": [],
      "source": [
        "data_augmentation = tf.keras.Sequential(\n",
        "  [\n",
        "    normalization_layer,\n",
        "    tf.keras.layers.experimental.preprocessing.RandomFlip(\"horizontal\"),\n",
        "    #tf.keras.layers.experimental.preprocessing.RandomRotation(0.1),\n",
        "    tf.keras.layers.experimental.preprocessing.RandomZoom(0.1),\n",
        "    #tf.keras.layers.experimental.preprocessing.RandomContrast(0.1),\n",
        "    #tf.keras.layers.experimental.preprocessing.RandomCrop(170,170)  \n",
        "  ]\n",
        ")"
      ]
    },
    {
      "cell_type": "markdown",
      "metadata": {
        "papermill": {
          "duration": 0.075933,
          "end_time": "2021-03-26T15:32:20.464739",
          "exception": false,
          "start_time": "2021-03-26T15:32:20.388806",
          "status": "completed"
        },
        "tags": [],
        "id": "aB7MqPhC_SK3"
      },
      "source": [
        "### Checking effects of the data augmentation"
      ]
    },
    {
      "cell_type": "code",
      "execution_count": null,
      "metadata": {
        "execution": {
          "iopub.execute_input": "2021-03-26T15:32:20.626596Z",
          "iopub.status.busy": "2021-03-26T15:32:20.624802Z",
          "iopub.status.idle": "2021-03-26T15:32:20.627232Z",
          "shell.execute_reply": "2021-03-26T15:32:20.627680Z"
        },
        "papermill": {
          "duration": 0.085889,
          "end_time": "2021-03-26T15:32:20.627816",
          "exception": false,
          "start_time": "2021-03-26T15:32:20.541927",
          "status": "completed"
        },
        "tags": [],
        "id": "gGcXJxGR_SK3"
      },
      "outputs": [],
      "source": [
        "# IMG_SIZE = 180\n",
        "\n",
        "# resize_and_rescale = tf.keras.Sequential([\n",
        "#   tf.keras.layers.experimental.preprocessing.Resizing(IMG_SIZE, IMG_SIZE),\n",
        "#   tf.keras.layers.experimental.preprocessing.Rescaling(1./255)\n",
        "# ])\n",
        "# result = resize_and_rescale(img_opencv)\n",
        "# _ = plt.imshow(result)"
      ]
    },
    {
      "cell_type": "code",
      "execution_count": null,
      "metadata": {
        "execution": {
          "iopub.execute_input": "2021-03-26T15:32:20.787809Z",
          "iopub.status.busy": "2021-03-26T15:32:20.786991Z",
          "iopub.status.idle": "2021-03-26T15:32:21.555326Z",
          "shell.execute_reply": "2021-03-26T15:32:21.555768Z"
        },
        "papermill": {
          "duration": 0.85176,
          "end_time": "2021-03-26T15:32:21.555915",
          "exception": false,
          "start_time": "2021-03-26T15:32:20.704155",
          "status": "completed"
        },
        "tags": [],
        "id": "flPkVYHW_SK3"
      },
      "outputs": [],
      "source": [
        "plt.figure(figsize=(10, 10))\n",
        "img_array = tf.keras.preprocessing.image.img_to_array(img_opencv)\n",
        "img_array = tf.expand_dims(img_array,0)\n",
        "for i in range(9):\n",
        "  augmented_image = data_augmentation(img_array)\n",
        "  ax = plt.subplot(3, 3, i + 1)\n",
        "  plt.imshow(augmented_image[0])\n",
        "  plt.axis(\"off\")"
      ]
    },
    {
      "cell_type": "markdown",
      "metadata": {
        "papermill": {
          "duration": 0.139384,
          "end_time": "2021-03-26T15:32:21.852730",
          "exception": false,
          "start_time": "2021-03-26T15:32:21.713346",
          "status": "completed"
        },
        "tags": [],
        "id": "Ussxs3FM_SK3"
      },
      "source": [
        "# Model Building"
      ]
    },
    {
      "cell_type": "markdown",
      "metadata": {
        "papermill": {
          "duration": 0.139788,
          "end_time": "2021-03-26T15:32:22.128794",
          "exception": false,
          "start_time": "2021-03-26T15:32:21.989006",
          "status": "completed"
        },
        "tags": [],
        "id": "7fRELPix_SK3"
      },
      "source": [
        "### References for model:<br>\n",
        "Model 2: Obtained from a [Kaggle notebook](https://www.kaggle.com/chityeaung/brain-tumor-classification) by [chityeaung](https://www.kaggle.com/chityeaung)<br>\n",
        "Model 1 and 3 taken from Tensorflow tutorials:<br>\n",
        "[Image Classification Tutorial](https://www.tensorflow.org/tutorials/images/classification)<br>\n",
        "[Transfer Learning Tutorial](https://www.tensorflow.org/tutorials/images/transfer_learning)"
      ]
    },
    {
      "cell_type": "markdown",
      "metadata": {
        "papermill": {
          "duration": 0.083812,
          "end_time": "2021-03-26T15:32:22.313201",
          "exception": false,
          "start_time": "2021-03-26T15:32:22.229389",
          "status": "completed"
        },
        "tags": [],
        "id": "W6kcdYtY_SK4"
      },
      "source": [
        "# First Model\n",
        "<a id='first_model'></a>"
      ]
    },
    {
      "cell_type": "code",
      "execution_count": null,
      "metadata": {
        "execution": {
          "iopub.execute_input": "2021-03-26T15:32:22.488025Z",
          "iopub.status.busy": "2021-03-26T15:32:22.487136Z",
          "iopub.status.idle": "2021-03-26T15:32:22.492690Z",
          "shell.execute_reply": "2021-03-26T15:32:22.492247Z"
        },
        "papermill": {
          "duration": 0.096527,
          "end_time": "2021-03-26T15:32:22.492811",
          "exception": false,
          "start_time": "2021-03-26T15:32:22.396284",
          "status": "completed"
        },
        "tags": [],
        "id": "WxH13Auk_SK4"
      },
      "outputs": [],
      "source": [
        "num_classes = 4\n",
        "\n",
        "model = tf.keras.Sequential([\n",
        "  normalization_layer,\n",
        "  conv_layer_32,\n",
        "  max_pool,\n",
        "  conv_layer_32,\n",
        "  max_pool,\n",
        "  conv_layer_32,\n",
        "  max_pool,\n",
        "  layers.Flatten(),\n",
        "  layers.Dense(128, activation='relu'),\n",
        "  layers.Dense(num_classes)\n",
        "])"
      ]
    },
    {
      "cell_type": "code",
      "execution_count": null,
      "metadata": {
        "execution": {
          "iopub.execute_input": "2021-03-26T15:32:22.679388Z",
          "iopub.status.busy": "2021-03-26T15:32:22.674694Z",
          "iopub.status.idle": "2021-03-26T15:32:22.686510Z",
          "shell.execute_reply": "2021-03-26T15:32:22.686933Z"
        },
        "papermill": {
          "duration": 0.11131,
          "end_time": "2021-03-26T15:32:22.687085",
          "exception": false,
          "start_time": "2021-03-26T15:32:22.575775",
          "status": "completed"
        },
        "tags": [],
        "id": "egODFDp0_SK4"
      },
      "outputs": [],
      "source": [
        "model.compile(\n",
        "  optimizer='adam',\n",
        "  loss=tf.losses.SparseCategoricalCrossentropy(from_logits=True),\n",
        "  metrics=['accuracy'])\n"
      ]
    },
    {
      "cell_type": "code",
      "execution_count": null,
      "metadata": {
        "execution": {
          "iopub.execute_input": "2021-03-26T15:32:22.908434Z",
          "iopub.status.busy": "2021-03-26T15:32:22.907819Z",
          "iopub.status.idle": "2021-03-26T15:33:07.565570Z",
          "shell.execute_reply": "2021-03-26T15:33:07.566741Z"
        },
        "papermill": {
          "duration": 44.753582,
          "end_time": "2021-03-26T15:33:07.567665",
          "exception": false,
          "start_time": "2021-03-26T15:32:22.814083",
          "status": "completed"
        },
        "tags": [],
        "id": "_DFJqB9L_SK4"
      },
      "outputs": [],
      "source": [
        "history = model.fit(\n",
        "    train,\n",
        "    validation_data=val,\n",
        "    epochs= 3,\n",
        "    callbacks = callback,\n",
        "    shuffle=False\n",
        ")\n",
        "eff_epochs = len(history.history['loss'])"
      ]
    },
    {
      "cell_type": "code",
      "execution_count": null,
      "metadata": {
        "execution": {
          "iopub.execute_input": "2021-03-26T15:33:07.874722Z",
          "iopub.status.busy": "2021-03-26T15:33:07.871404Z",
          "iopub.status.idle": "2021-03-26T15:33:08.134223Z",
          "shell.execute_reply": "2021-03-26T15:33:08.134682Z"
        },
        "papermill": {
          "duration": 0.427027,
          "end_time": "2021-03-26T15:33:08.134837",
          "exception": false,
          "start_time": "2021-03-26T15:33:07.707810",
          "status": "completed"
        },
        "tags": [],
        "id": "oWo_13S__SK4"
      },
      "outputs": [],
      "source": [
        "acc = history.history['accuracy']\n",
        "val_acc = history.history['val_accuracy']\n",
        "epochs = 10\n",
        "\n",
        "loss = history.history['loss']\n",
        "val_loss = history.history['val_loss']\n",
        "\n",
        "epochs_range = range(eff_epochs)\n",
        "\n",
        "plt.figure(figsize=(8, 8))\n",
        "plt.subplot(1, 2, 1)\n",
        "plt.plot(epochs_range, acc, label='Training Accuracy')\n",
        "plt.plot(epochs_range, val_acc, label='Validation Accuracy')\n",
        "plt.legend(loc='lower right')\n",
        "plt.title('Training and Validation Accuracy',fontdict = {'fontsize': '14',\n",
        "                              'color': 'white'})\n",
        "\n",
        "plt.subplot(1, 2, 2)\n",
        "plt.plot(epochs_range, loss, label='Training Loss')\n",
        "plt.plot(epochs_range, val_loss, label='Validation Loss')\n",
        "plt.legend(loc='upper right')\n",
        "plt.title('Training and Validation Loss',fontdict = {'fontsize': '14',\n",
        "                              'color': 'white'})\n",
        "plt.show()"
      ]
    },
    {
      "cell_type": "code",
      "execution_count": null,
      "metadata": {
        "execution": {
          "iopub.execute_input": "2021-03-26T15:33:08.429563Z",
          "iopub.status.busy": "2021-03-26T15:33:08.425181Z",
          "iopub.status.idle": "2021-03-26T15:33:08.432218Z",
          "shell.execute_reply": "2021-03-26T15:33:08.431752Z"
        },
        "papermill": {
          "duration": 0.156982,
          "end_time": "2021-03-26T15:33:08.432334",
          "exception": false,
          "start_time": "2021-03-26T15:33:08.275352",
          "status": "completed"
        },
        "tags": [],
        "id": "TBLSdh_0_SK5"
      },
      "outputs": [],
      "source": [
        "model.summary()"
      ]
    },
    {
      "cell_type": "code",
      "execution_count": null,
      "metadata": {
        "execution": {
          "iopub.execute_input": "2021-03-26T15:33:08.723616Z",
          "iopub.status.busy": "2021-03-26T15:33:08.722832Z",
          "iopub.status.idle": "2021-03-26T15:33:12.288989Z",
          "shell.execute_reply": "2021-03-26T15:33:12.289429Z"
        },
        "papermill": {
          "duration": 3.711775,
          "end_time": "2021-03-26T15:33:12.289665",
          "exception": false,
          "start_time": "2021-03-26T15:33:08.577890",
          "status": "completed"
        },
        "tags": [],
        "id": "V9Lys770_SK5"
      },
      "outputs": [],
      "source": [
        "results = model.evaluate(test)\n",
        "print(\"test loss, test acc:\", results)"
      ]
    },
    {
      "cell_type": "code",
      "execution_count": null,
      "metadata": {
        "execution": {
          "iopub.execute_input": "2021-03-26T15:33:12.579109Z",
          "iopub.status.busy": "2021-03-26T15:33:12.578313Z",
          "iopub.status.idle": "2021-03-26T15:33:12.871821Z",
          "shell.execute_reply": "2021-03-26T15:33:12.871208Z"
        },
        "papermill": {
          "duration": 0.439749,
          "end_time": "2021-03-26T15:33:12.871985",
          "exception": false,
          "start_time": "2021-03-26T15:33:12.432236",
          "status": "completed"
        },
        "tags": [],
        "id": "wl4AczmD_SK5"
      },
      "outputs": [],
      "source": [
        "list_of_paths = ['../input/brain-tumor-classification-mri/Testing/pituitary_tumor/image(20).jpg',\n",
        "                '../input/brain-tumor-classification-mri/Testing/no_tumor/image(11).jpg',\n",
        "                '../input/brain-tumor-classification-mri/Testing/meningioma_tumor/image(120).jpg',\n",
        "                '../input/brain-tumor-classification-mri/Testing/glioma_tumor/image(16).jpg',\n",
        "                '../input/brain-mri-images-for-brain-tumor-detection/yes/Y100.JPG']\n",
        "test_tumor(list_of_paths,model)"
      ]
    },
    {
      "cell_type": "code",
      "execution_count": null,
      "metadata": {
        "execution": {
          "iopub.execute_input": "2021-03-26T15:33:13.163187Z",
          "iopub.status.busy": "2021-03-26T15:33:13.162625Z",
          "iopub.status.idle": "2021-03-26T15:33:14.596713Z",
          "shell.execute_reply": "2021-03-26T15:33:14.596064Z"
        },
        "papermill": {
          "duration": 1.580456,
          "end_time": "2021-03-26T15:33:14.596884",
          "exception": false,
          "start_time": "2021-03-26T15:33:13.016428",
          "status": "completed"
        },
        "tags": [],
        "id": "S-OGf3xO_SK5"
      },
      "outputs": [],
      "source": [
        "labels_entire = []\n",
        "pred_entire = []\n",
        "for image_batch,label_batch in test.as_numpy_iterator():\n",
        "    prediction = model.predict_on_batch(image_batch).flatten()\n",
        "\n",
        "    # Apply a sigmoid since our model returns logits\n",
        "    predictions = tf.nn.sigmoid(prediction).numpy()\n",
        "\n",
        "    n = 0\n",
        "    predict = []\n",
        "    while n<=(predictions.shape[0]-4):\n",
        "        pred = np.argmax(predictions[n:n+4]) #Returns the index of the largest element in the selected subarray\n",
        "        n+=4\n",
        "        pred_entire.append(pred)\n",
        "    for el in label_batch:\n",
        "        labels_entire.append(el)\n",
        "pred_entire = np.array(pred_entire)\n",
        "labels_entire = np.array(labels_entire)\n",
        "print(pred_entire)\n",
        "print(labels_entire)"
      ]
    },
    {
      "cell_type": "code",
      "execution_count": null,
      "metadata": {
        "execution": {
          "iopub.execute_input": "2021-03-26T15:33:14.888777Z",
          "iopub.status.busy": "2021-03-26T15:33:14.887919Z",
          "iopub.status.idle": "2021-03-26T15:33:14.897174Z",
          "shell.execute_reply": "2021-03-26T15:33:14.896468Z"
        },
        "papermill": {
          "duration": 0.156732,
          "end_time": "2021-03-26T15:33:14.897327",
          "exception": false,
          "start_time": "2021-03-26T15:33:14.740595",
          "status": "completed"
        },
        "tags": [],
        "id": "07w7T88d_SK5"
      },
      "outputs": [],
      "source": [
        "print(classification_report(labels_entire, pred_entire, target_names=classes))"
      ]
    },
    {
      "cell_type": "markdown",
      "metadata": {
        "papermill": {
          "duration": 0.142136,
          "end_time": "2021-03-26T15:33:15.186317",
          "exception": false,
          "start_time": "2021-03-26T15:33:15.044181",
          "status": "completed"
        },
        "tags": [],
        "id": "IUrAOYNE_SK5"
      },
      "source": [
        "# Second Model\n",
        "<a id = 'second_model'></a>"
      ]
    },
    {
      "cell_type": "markdown",
      "metadata": {
        "papermill": {
          "duration": 0.141377,
          "end_time": "2021-03-26T15:33:15.470370",
          "exception": false,
          "start_time": "2021-03-26T15:33:15.328993",
          "status": "completed"
        },
        "tags": [],
        "id": "yk_zOxrL_SK5"
      },
      "source": [
        "Adding a data augmentation layer to add more images to the training data by simply modifying the existing images in ways such as flipping them or making similar random transformations to the training data."
      ]
    },
    {
      "cell_type": "code",
      "execution_count": null,
      "metadata": {
        "execution": {
          "iopub.execute_input": "2021-03-26T15:33:15.779341Z",
          "iopub.status.busy": "2021-03-26T15:33:15.778430Z",
          "iopub.status.idle": "2021-03-26T15:33:15.784370Z",
          "shell.execute_reply": "2021-03-26T15:33:15.783841Z"
        },
        "papermill": {
          "duration": 0.169042,
          "end_time": "2021-03-26T15:33:15.784507",
          "exception": false,
          "start_time": "2021-03-26T15:33:15.615465",
          "status": "completed"
        },
        "tags": [],
        "id": "fnQcbgy5_SK6"
      },
      "outputs": [],
      "source": [
        "num_classes = 4\n",
        "\n",
        "model2 = tf.keras.Sequential([\n",
        "  #data_augmentation,\n",
        "  normalization_layer,\n",
        "  #tf.keras.layers.Conv2D(32,3,activation='relu'),\n",
        "  conv_layer_32,\n",
        "  layers.MaxPooling2D(pool_size=(2,2)),\n",
        "  conv_layer_32,\n",
        "  layers.MaxPooling2D(pool_size=(2,2)),\n",
        "  layers.Flatten(),\n",
        "  layers.Dense(32, activation='relu'),\n",
        "  layers.Dropout(0.25),\n",
        "  layers.Dense(num_classes,activation='softmax')\n",
        "])"
      ]
    },
    {
      "cell_type": "code",
      "execution_count": null,
      "metadata": {
        "execution": {
          "iopub.execute_input": "2021-03-26T15:33:16.086377Z",
          "iopub.status.busy": "2021-03-26T15:33:16.085846Z",
          "iopub.status.idle": "2021-03-26T15:33:16.092121Z",
          "shell.execute_reply": "2021-03-26T15:33:16.091472Z"
        },
        "papermill": {
          "duration": 0.161203,
          "end_time": "2021-03-26T15:33:16.092245",
          "exception": false,
          "start_time": "2021-03-26T15:33:15.931042",
          "status": "completed"
        },
        "tags": [],
        "id": "rmnXf1zr_SK6"
      },
      "outputs": [],
      "source": [
        "model2.compile(optimizer='adam',\n",
        "              loss=tf.keras.losses.SparseCategoricalCrossentropy(from_logits=True),\n",
        "              metrics=['accuracy'])"
      ]
    },
    {
      "cell_type": "code",
      "execution_count": null,
      "metadata": {
        "execution": {
          "iopub.execute_input": "2021-03-26T15:33:16.382825Z",
          "iopub.status.busy": "2021-03-26T15:33:16.382177Z",
          "iopub.status.idle": "2021-03-26T15:34:36.172416Z",
          "shell.execute_reply": "2021-03-26T15:34:36.172857Z"
        },
        "papermill": {
          "duration": 79.938645,
          "end_time": "2021-03-26T15:34:36.173086",
          "exception": false,
          "start_time": "2021-03-26T15:33:16.234441",
          "status": "completed"
        },
        "tags": [],
        "id": "U03I53D1_SK6"
      },
      "outputs": [],
      "source": [
        "epochs = 50\n",
        "history = model2.fit(\n",
        "  train,\n",
        "  validation_data=val,\n",
        "  epochs=epochs,\n",
        "  callbacks = callback,\n",
        "  shuffle=False\n",
        ")"
      ]
    },
    {
      "cell_type": "code",
      "execution_count": null,
      "metadata": {
        "execution": {
          "iopub.execute_input": "2021-03-26T15:34:36.814909Z",
          "iopub.status.busy": "2021-03-26T15:34:36.813322Z",
          "iopub.status.idle": "2021-03-26T15:34:36.821873Z",
          "shell.execute_reply": "2021-03-26T15:34:36.821207Z"
        },
        "papermill": {
          "duration": 0.332372,
          "end_time": "2021-03-26T15:34:36.822024",
          "exception": false,
          "start_time": "2021-03-26T15:34:36.489652",
          "status": "completed"
        },
        "tags": [],
        "id": "3RKXyCdm_SK6"
      },
      "outputs": [],
      "source": [
        "model2.summary()"
      ]
    },
    {
      "cell_type": "code",
      "execution_count": null,
      "metadata": {
        "execution": {
          "iopub.execute_input": "2021-03-26T15:34:37.467711Z",
          "iopub.status.busy": "2021-03-26T15:34:37.466871Z",
          "iopub.status.idle": "2021-03-26T15:34:37.728032Z",
          "shell.execute_reply": "2021-03-26T15:34:37.728446Z"
        },
        "papermill": {
          "duration": 0.591588,
          "end_time": "2021-03-26T15:34:37.728627",
          "exception": false,
          "start_time": "2021-03-26T15:34:37.137039",
          "status": "completed"
        },
        "tags": [],
        "id": "GcvaWE3X_SK6"
      },
      "outputs": [],
      "source": [
        "eff_epochs = len(history.history['loss'])\n",
        "acc = history.history['accuracy']\n",
        "val_acc = history.history['val_accuracy']\n",
        "epochs = 10\n",
        "\n",
        "loss = history.history['loss']\n",
        "val_loss = history.history['val_loss']\n",
        "\n",
        "epochs_range = range(eff_epochs)\n",
        "\n",
        "plt.figure(figsize=(8, 8))\n",
        "plt.subplot(1, 2, 1)\n",
        "plt.plot(epochs_range, acc, label='Training Accuracy')\n",
        "plt.plot(epochs_range, val_acc, label='Validation Accuracy')\n",
        "plt.legend(loc='lower right')\n",
        "plt.title('Training and Validation Accuracy',fontdict = {'fontsize': '14',\n",
        "                              'color': 'white'})\n",
        "\n",
        "plt.subplot(1, 2, 2)\n",
        "plt.plot(epochs_range, loss, label='Training Loss')\n",
        "plt.plot(epochs_range, val_loss, label='Validation Loss')\n",
        "plt.legend(loc='upper right')\n",
        "plt.title('Training and Validation Loss',fontdict = {'fontsize': '14',\n",
        "                              'color': 'white'})\n",
        "plt.show()"
      ]
    },
    {
      "cell_type": "code",
      "execution_count": null,
      "metadata": {
        "execution": {
          "iopub.execute_input": "2021-03-26T15:34:38.369329Z",
          "iopub.status.busy": "2021-03-26T15:34:38.368433Z",
          "iopub.status.idle": "2021-03-26T15:34:39.542936Z",
          "shell.execute_reply": "2021-03-26T15:34:39.543893Z"
        },
        "papermill": {
          "duration": 1.496793,
          "end_time": "2021-03-26T15:34:39.544058",
          "exception": false,
          "start_time": "2021-03-26T15:34:38.047265",
          "status": "completed"
        },
        "tags": [],
        "id": "UK8jwqXW_SK6"
      },
      "outputs": [],
      "source": [
        "results = model2.evaluate(test)\n",
        "print(\"test loss, test acc:\", results)"
      ]
    },
    {
      "cell_type": "code",
      "execution_count": null,
      "metadata": {
        "execution": {
          "iopub.execute_input": "2021-03-26T15:34:40.201343Z",
          "iopub.status.busy": "2021-03-26T15:34:40.200600Z",
          "iopub.status.idle": "2021-03-26T15:34:40.419767Z",
          "shell.execute_reply": "2021-03-26T15:34:40.419132Z"
        },
        "papermill": {
          "duration": 0.545132,
          "end_time": "2021-03-26T15:34:40.419943",
          "exception": false,
          "start_time": "2021-03-26T15:34:39.874811",
          "status": "completed"
        },
        "tags": [],
        "id": "Kg5zuX0V_SK7"
      },
      "outputs": [],
      "source": [
        "list_of_paths = ['../input/brain-tumor-classification-mri/Testing/pituitary_tumor/image(20).jpg',\n",
        "                '../input/brain-tumor-classification-mri/Testing/no_tumor/image(11).jpg',\n",
        "                '../input/brain-tumor-classification-mri/Testing/meningioma_tumor/image(120).jpg',\n",
        "                '../input/brain-tumor-classification-mri/Testing/glioma_tumor/image(16).jpg',\n",
        "                '../input/brain-mri-images-for-brain-tumor-detection/yes/Y100.JPG']\n",
        "test_tumor(list_of_paths,model2)"
      ]
    },
    {
      "cell_type": "code",
      "execution_count": null,
      "metadata": {
        "execution": {
          "iopub.execute_input": "2021-03-26T15:34:41.072731Z",
          "iopub.status.busy": "2021-03-26T15:34:41.072106Z",
          "iopub.status.idle": "2021-03-26T15:34:42.646552Z",
          "shell.execute_reply": "2021-03-26T15:34:42.647157Z"
        },
        "papermill": {
          "duration": 1.906812,
          "end_time": "2021-03-26T15:34:42.647353",
          "exception": false,
          "start_time": "2021-03-26T15:34:40.740541",
          "status": "completed"
        },
        "tags": [],
        "id": "AxVIlezZ_SK7"
      },
      "outputs": [],
      "source": [
        "labels_entire = []\n",
        "pred_entire = []\n",
        "for image_batch,label_batch in test.as_numpy_iterator():\n",
        "    prediction = model2.predict_on_batch(image_batch).flatten()\n",
        "\n",
        "    # Apply a sigmoid since our model returns logits\n",
        "    predictions = tf.nn.sigmoid(prediction).numpy()\n",
        "\n",
        "    n = 0\n",
        "    predict = []\n",
        "    while n<=(predictions.shape[0]-4):\n",
        "        pred = np.argmax(predictions[n:n+4]) #Returns the index of the largest element in the selected subarray\n",
        "        n+=4\n",
        "        pred_entire.append(pred)\n",
        "    for el in label_batch:\n",
        "        labels_entire.append(el)\n",
        "pred_entire = np.array(pred_entire)\n",
        "labels_entire = np.array(labels_entire)\n",
        "print(pred_entire)\n",
        "print(labels_entire)"
      ]
    },
    {
      "cell_type": "code",
      "execution_count": null,
      "metadata": {
        "execution": {
          "iopub.execute_input": "2021-03-26T15:34:43.331541Z",
          "iopub.status.busy": "2021-03-26T15:34:43.330987Z",
          "iopub.status.idle": "2021-03-26T15:34:43.340239Z",
          "shell.execute_reply": "2021-03-26T15:34:43.339821Z"
        },
        "papermill": {
          "duration": 0.332149,
          "end_time": "2021-03-26T15:34:43.340354",
          "exception": false,
          "start_time": "2021-03-26T15:34:43.008205",
          "status": "completed"
        },
        "tags": [],
        "id": "cjw4qYdZ_SK7"
      },
      "outputs": [],
      "source": [
        "print(classification_report(labels_entire, pred_entire, target_names=classes))"
      ]
    },
    {
      "cell_type": "markdown",
      "metadata": {
        "papermill": {
          "duration": 0.319895,
          "end_time": "2021-03-26T15:34:43.982773",
          "exception": false,
          "start_time": "2021-03-26T15:34:43.662878",
          "status": "completed"
        },
        "tags": [],
        "id": "OmRyWQo3_SK7"
      },
      "source": [
        "# Third Model\n",
        "### Using a pretrained model: MobileNetV2\n",
        "<a id = 'third_model'></a>"
      ]
    },
    {
      "cell_type": "code",
      "execution_count": null,
      "metadata": {
        "execution": {
          "iopub.execute_input": "2021-03-26T15:34:44.674906Z",
          "iopub.status.busy": "2021-03-26T15:34:44.674071Z",
          "iopub.status.idle": "2021-03-26T15:34:46.175497Z",
          "shell.execute_reply": "2021-03-26T15:34:46.175026Z"
        },
        "papermill": {
          "duration": 1.872957,
          "end_time": "2021-03-26T15:34:46.175655",
          "exception": false,
          "start_time": "2021-03-26T15:34:44.302698",
          "status": "completed"
        },
        "tags": [],
        "id": "6twA1qfH_SK7"
      },
      "outputs": [],
      "source": [
        "# Create the base model from the pre-trained model MobileNet V2\n",
        "image_size = (img_width,img_height)\n",
        "IMG_SHAPE = image_size + (3,)\n",
        "base_model = tf.keras.applications.MobileNetV2(input_shape=IMG_SHAPE,\n",
        "                                               include_top=False,\n",
        "                                               weights='imagenet')\n",
        "\n",
        "base_model.trainable = False"
      ]
    },
    {
      "cell_type": "code",
      "execution_count": null,
      "metadata": {
        "execution": {
          "iopub.execute_input": "2021-03-26T15:34:46.831320Z",
          "iopub.status.busy": "2021-03-26T15:34:46.830111Z",
          "iopub.status.idle": "2021-03-26T15:34:47.640469Z",
          "shell.execute_reply": "2021-03-26T15:34:47.639441Z"
        },
        "papermill": {
          "duration": 1.140732,
          "end_time": "2021-03-26T15:34:47.640665",
          "exception": false,
          "start_time": "2021-03-26T15:34:46.499933",
          "status": "completed"
        },
        "tags": [],
        "id": "5Tu8H-PH_SK8"
      },
      "outputs": [],
      "source": [
        "image_batch, label_batch = next(iter(train))\n",
        "feature_batch = base_model(image_batch)\n",
        "print(feature_batch.shape)"
      ]
    },
    {
      "cell_type": "code",
      "execution_count": null,
      "metadata": {
        "execution": {
          "iopub.execute_input": "2021-03-26T15:34:48.298686Z",
          "iopub.status.busy": "2021-03-26T15:34:48.294324Z",
          "iopub.status.idle": "2021-03-26T15:34:48.338494Z",
          "shell.execute_reply": "2021-03-26T15:34:48.337686Z"
        },
        "papermill": {
          "duration": 0.375866,
          "end_time": "2021-03-26T15:34:48.338716",
          "exception": false,
          "start_time": "2021-03-26T15:34:47.962850",
          "status": "completed"
        },
        "tags": [],
        "id": "EZUGZRYd_SK8"
      },
      "outputs": [],
      "source": [
        "base_model.summary()"
      ]
    },
    {
      "cell_type": "code",
      "execution_count": null,
      "metadata": {
        "execution": {
          "iopub.execute_input": "2021-03-26T15:34:49.012236Z",
          "iopub.status.busy": "2021-03-26T15:34:49.011710Z",
          "iopub.status.idle": "2021-03-26T15:34:49.020254Z",
          "shell.execute_reply": "2021-03-26T15:34:49.020713Z"
        },
        "papermill": {
          "duration": 0.339208,
          "end_time": "2021-03-26T15:34:49.020893",
          "exception": false,
          "start_time": "2021-03-26T15:34:48.681685",
          "status": "completed"
        },
        "tags": [],
        "id": "rpcEQ6BJ_SK8"
      },
      "outputs": [],
      "source": [
        "global_average_layer = tf.keras.layers.GlobalAveragePooling2D()\n",
        "feature_batch_average = global_average_layer(feature_batch)\n",
        "print(feature_batch_average.shape)"
      ]
    },
    {
      "cell_type": "code",
      "execution_count": null,
      "metadata": {
        "execution": {
          "iopub.execute_input": "2021-03-26T15:34:49.677918Z",
          "iopub.status.busy": "2021-03-26T15:34:49.677099Z",
          "iopub.status.idle": "2021-03-26T15:34:49.683718Z",
          "shell.execute_reply": "2021-03-26T15:34:49.683182Z"
        },
        "papermill": {
          "duration": 0.33871,
          "end_time": "2021-03-26T15:34:49.683895",
          "exception": false,
          "start_time": "2021-03-26T15:34:49.345185",
          "status": "completed"
        },
        "tags": [],
        "id": "Y5h-gygz_SK8"
      },
      "outputs": [],
      "source": [
        "prediction_layer = tf.keras.layers.Dense(4)\n",
        "prediction_batch = prediction_layer(feature_batch_average)\n",
        "print(prediction_batch.shape)"
      ]
    },
    {
      "cell_type": "code",
      "execution_count": null,
      "metadata": {
        "execution": {
          "iopub.execute_input": "2021-03-26T15:34:50.341632Z",
          "iopub.status.busy": "2021-03-26T15:34:50.341050Z",
          "iopub.status.idle": "2021-03-26T15:34:50.345095Z",
          "shell.execute_reply": "2021-03-26T15:34:50.344467Z"
        },
        "papermill": {
          "duration": 0.33678,
          "end_time": "2021-03-26T15:34:50.345222",
          "exception": false,
          "start_time": "2021-03-26T15:34:50.008442",
          "status": "completed"
        },
        "tags": [],
        "id": "r_898YWa_SK8"
      },
      "outputs": [],
      "source": [
        "preprocess_input = tf.keras.applications.mobilenet_v2.preprocess_input"
      ]
    },
    {
      "cell_type": "code",
      "execution_count": null,
      "metadata": {
        "execution": {
          "iopub.execute_input": "2021-03-26T15:34:51.010274Z",
          "iopub.status.busy": "2021-03-26T15:34:51.009484Z",
          "iopub.status.idle": "2021-03-26T15:34:51.013877Z",
          "shell.execute_reply": "2021-03-26T15:34:51.013318Z"
        },
        "papermill": {
          "duration": 0.33773,
          "end_time": "2021-03-26T15:34:51.014003",
          "exception": false,
          "start_time": "2021-03-26T15:34:50.676273",
          "status": "completed"
        },
        "tags": [],
        "id": "exJMMkCT_SK8"
      },
      "outputs": [],
      "source": [
        "help(preprocess_input)"
      ]
    },
    {
      "cell_type": "code",
      "execution_count": null,
      "metadata": {
        "execution": {
          "iopub.execute_input": "2021-03-26T15:34:51.674400Z",
          "iopub.status.busy": "2021-03-26T15:34:51.671147Z",
          "iopub.status.idle": "2021-03-26T15:34:51.988652Z",
          "shell.execute_reply": "2021-03-26T15:34:51.987717Z"
        },
        "papermill": {
          "duration": 0.650531,
          "end_time": "2021-03-26T15:34:51.988790",
          "exception": false,
          "start_time": "2021-03-26T15:34:51.338259",
          "status": "completed"
        },
        "tags": [],
        "id": "adPsSSV4_SK8"
      },
      "outputs": [],
      "source": [
        "inputs = tf.keras.Input(shape=(250, 250, 3))\n",
        "#x = data_augmentation(inputs)\n",
        "x = preprocess_input(inputs)\n",
        "x = base_model(x, training=False)\n",
        "x = global_average_layer(x)\n",
        "x = tf.keras.layers.Dropout(0.2)(x)\n",
        "x = tf.keras.layers.Flatten()(x)\n",
        "x = tf.keras.layers.Dense(1280,activation='relu')(x)\n",
        "outputs = prediction_layer(x)\n",
        "model3 = tf.keras.Model(inputs, outputs)"
      ]
    },
    {
      "cell_type": "code",
      "execution_count": null,
      "metadata": {
        "execution": {
          "iopub.execute_input": "2021-03-26T15:34:52.673095Z",
          "iopub.status.busy": "2021-03-26T15:34:52.672253Z",
          "iopub.status.idle": "2021-03-26T15:34:52.677956Z",
          "shell.execute_reply": "2021-03-26T15:34:52.677552Z"
        },
        "papermill": {
          "duration": 0.34296,
          "end_time": "2021-03-26T15:34:52.678079",
          "exception": false,
          "start_time": "2021-03-26T15:34:52.335119",
          "status": "completed"
        },
        "tags": [],
        "id": "Gyn-cQu5_SK9"
      },
      "outputs": [],
      "source": [
        "base_learning_rate = 0.0001\n",
        "model3.compile(optimizer=tf.keras.optimizers.Adam(lr=base_learning_rate),\n",
        "              loss=tf.keras.losses.SparseCategoricalCrossentropy(from_logits=True),\n",
        "              metrics=['accuracy'])"
      ]
    },
    {
      "cell_type": "code",
      "execution_count": null,
      "metadata": {
        "execution": {
          "iopub.execute_input": "2021-03-26T15:34:53.335788Z",
          "iopub.status.busy": "2021-03-26T15:34:53.335089Z",
          "iopub.status.idle": "2021-03-26T15:34:53.340402Z",
          "shell.execute_reply": "2021-03-26T15:34:53.340840Z"
        },
        "papermill": {
          "duration": 0.335491,
          "end_time": "2021-03-26T15:34:53.340981",
          "exception": false,
          "start_time": "2021-03-26T15:34:53.005490",
          "status": "completed"
        },
        "tags": [],
        "id": "EBfsRxhM_SK9"
      },
      "outputs": [],
      "source": [
        "len(model.trainable_variables)"
      ]
    },
    {
      "cell_type": "code",
      "execution_count": null,
      "metadata": {
        "execution": {
          "iopub.execute_input": "2021-03-26T15:34:54.006379Z",
          "iopub.status.busy": "2021-03-26T15:34:54.005601Z",
          "iopub.status.idle": "2021-03-26T15:34:57.582712Z",
          "shell.execute_reply": "2021-03-26T15:34:57.582115Z"
        },
        "papermill": {
          "duration": 3.907487,
          "end_time": "2021-03-26T15:34:57.582875",
          "exception": false,
          "start_time": "2021-03-26T15:34:53.675388",
          "status": "completed"
        },
        "tags": [],
        "id": "c3QCWmyK_SK9"
      },
      "outputs": [],
      "source": [
        "initial_epochs = 10\n",
        "\n",
        "loss0, accuracy0 = model3.evaluate(val)\n",
        "print(\"initial loss: {:.2f}\".format(loss0))\n",
        "print(\"initial accuracy: {:.2f}\".format(accuracy0))"
      ]
    },
    {
      "cell_type": "code",
      "execution_count": null,
      "metadata": {
        "execution": {
          "iopub.execute_input": "2021-03-26T15:34:58.245205Z",
          "iopub.status.busy": "2021-03-26T15:34:58.244351Z",
          "iopub.status.idle": "2021-03-26T15:36:27.954685Z",
          "shell.execute_reply": "2021-03-26T15:36:27.953757Z"
        },
        "papermill": {
          "duration": 90.044418,
          "end_time": "2021-03-26T15:36:27.954826",
          "exception": false,
          "start_time": "2021-03-26T15:34:57.910408",
          "status": "completed"
        },
        "tags": [],
        "id": "U2qbXPKP_SK9"
      },
      "outputs": [],
      "source": [
        "history_base = model3.fit(train,\n",
        "                         epochs=initial_epochs,\n",
        "                         validation_data=val,\n",
        "                         shuffle=False\n",
        "                        )"
      ]
    },
    {
      "cell_type": "code",
      "execution_count": null,
      "metadata": {
        "execution": {
          "iopub.execute_input": "2021-03-26T15:36:28.983072Z",
          "iopub.status.busy": "2021-03-26T15:36:28.975500Z",
          "iopub.status.idle": "2021-03-26T15:36:28.989176Z",
          "shell.execute_reply": "2021-03-26T15:36:28.988508Z"
        },
        "papermill": {
          "duration": 0.529191,
          "end_time": "2021-03-26T15:36:28.989328",
          "exception": false,
          "start_time": "2021-03-26T15:36:28.460137",
          "status": "completed"
        },
        "tags": [],
        "id": "ElTVDHes_SK9"
      },
      "outputs": [],
      "source": [
        "model3.summary()"
      ]
    },
    {
      "cell_type": "code",
      "execution_count": null,
      "metadata": {
        "execution": {
          "iopub.execute_input": "2021-03-26T15:36:30.059335Z",
          "iopub.status.busy": "2021-03-26T15:36:30.045347Z",
          "iopub.status.idle": "2021-03-26T15:36:30.309787Z",
          "shell.execute_reply": "2021-03-26T15:36:30.310167Z"
        },
        "papermill": {
          "duration": 0.81514,
          "end_time": "2021-03-26T15:36:30.310320",
          "exception": false,
          "start_time": "2021-03-26T15:36:29.495180",
          "status": "completed"
        },
        "tags": [],
        "id": "zycwwdlO_SK9"
      },
      "outputs": [],
      "source": [
        "acc = history_base.history['accuracy']\n",
        "val_acc = history_base.history['val_accuracy']\n",
        "\n",
        "loss = history_base.history['loss']\n",
        "val_loss = history_base.history['val_loss']\n",
        "\n",
        "plt.figure(figsize=(8, 8))\n",
        "plt.subplot(2, 1, 1)\n",
        "plt.plot(acc, label='Training Accuracy')\n",
        "plt.plot(val_acc, label='Validation Accuracy')\n",
        "plt.legend(loc='lower right')\n",
        "plt.ylabel('Accuracy')\n",
        "plt.ylim([min(plt.ylim()),1])\n",
        "plt.title('Training and Validation Accuracy',fontdict = {'fontsize': '14',\n",
        "                              'color': 'white'})\n",
        "\n",
        "plt.subplot(2, 1, 2)\n",
        "plt.plot(loss, label='Training Loss')\n",
        "\n",
        "\n",
        "plt.plot(val_loss, label='Validation Loss')\n",
        "plt.legend(loc='upper right')\n",
        "plt.ylabel('Cross Entropy')\n",
        "plt.ylim([0,1.0])\n",
        "plt.title('Training and Validation Loss',fontdict = {'fontsize': '14',\n",
        "                              'color': 'white'})\n",
        "plt.xlabel('epoch')\n",
        "plt.show()"
      ]
    },
    {
      "cell_type": "code",
      "execution_count": null,
      "metadata": {
        "execution": {
          "iopub.execute_input": "2021-03-26T15:36:31.334418Z",
          "iopub.status.busy": "2021-03-26T15:36:31.333891Z",
          "iopub.status.idle": "2021-03-26T15:36:31.574611Z",
          "shell.execute_reply": "2021-03-26T15:36:31.573711Z"
        },
        "papermill": {
          "duration": 0.759477,
          "end_time": "2021-03-26T15:36:31.574812",
          "exception": false,
          "start_time": "2021-03-26T15:36:30.815335",
          "status": "completed"
        },
        "tags": [],
        "id": "CJXBpAwV_SK-"
      },
      "outputs": [],
      "source": [
        "list_of_paths = ['../input/brain-tumor-classification-mri/Testing/pituitary_tumor/image(20).jpg',\n",
        "                '../input/brain-tumor-classification-mri/Testing/no_tumor/image(11).jpg',\n",
        "                '../input/brain-tumor-classification-mri/Testing/meningioma_tumor/image(120).jpg',\n",
        "                '../input/brain-tumor-classification-mri/Testing/glioma_tumor/image(16).jpg',\n",
        "                '../input/brain-mri-images-for-brain-tumor-detection/yes/Y100.JPG',\n",
        "                '../input/brain-mri-images-for-brain-tumor-detection/no/14 no.jpg']\n",
        "test_tumor(list_of_paths,model)"
      ]
    },
    {
      "cell_type": "code",
      "execution_count": null,
      "metadata": {
        "execution": {
          "iopub.execute_input": "2021-03-26T15:36:32.635982Z",
          "iopub.status.busy": "2021-03-26T15:36:32.635131Z",
          "iopub.status.idle": "2021-03-26T15:36:34.091912Z",
          "shell.execute_reply": "2021-03-26T15:36:34.092323Z"
        },
        "papermill": {
          "duration": 1.996168,
          "end_time": "2021-03-26T15:36:34.092481",
          "exception": false,
          "start_time": "2021-03-26T15:36:32.096313",
          "status": "completed"
        },
        "tags": [],
        "id": "DffIi80O_SK-"
      },
      "outputs": [],
      "source": [
        "result = model3.evaluate(test)\n",
        "print(result)"
      ]
    },
    {
      "cell_type": "markdown",
      "metadata": {
        "papermill": {
          "duration": 0.730913,
          "end_time": "2021-03-26T15:36:35.360107",
          "exception": false,
          "start_time": "2021-03-26T15:36:34.629194",
          "status": "completed"
        },
        "tags": [],
        "id": "puFviFnG_SK-"
      },
      "source": [
        "## Fine Tuning the model\n",
        "<a id='fine_tune'></a>"
      ]
    },
    {
      "cell_type": "code",
      "execution_count": null,
      "metadata": {
        "execution": {
          "iopub.execute_input": "2021-03-26T15:36:36.409661Z",
          "iopub.status.busy": "2021-03-26T15:36:36.408698Z",
          "iopub.status.idle": "2021-03-26T15:36:36.413182Z",
          "shell.execute_reply": "2021-03-26T15:36:36.413769Z"
        },
        "papermill": {
          "duration": 0.538204,
          "end_time": "2021-03-26T15:36:36.413948",
          "exception": false,
          "start_time": "2021-03-26T15:36:35.875744",
          "status": "completed"
        },
        "tags": [],
        "id": "yNdMnsbR_SK-"
      },
      "outputs": [],
      "source": [
        "base_model.trainable = True\n",
        "# Let's take a look to see how many layers are in the base model\n",
        "print(\"Number of layers in the base model: \", len(base_model.layers))\n",
        "\n",
        "# Fine-tune from this layer onwards\n",
        "fine_tune_at = 100\n",
        "\n",
        "#Attempting to fine tune more layers\n",
        "more_layer = 50\n",
        "\n",
        "\n",
        "\n",
        "#Freeze all the layers before the `fine_tune_at` layer\n",
        "for layer in base_model.layers[:fine_tune_at]:\n",
        "  layer.trainable =  False"
      ]
    },
    {
      "cell_type": "markdown",
      "metadata": {
        "papermill": {
          "duration": 0.514084,
          "end_time": "2021-03-26T15:36:37.441105",
          "exception": false,
          "start_time": "2021-03-26T15:36:36.927021",
          "status": "completed"
        },
        "tags": [],
        "id": "Sudsvlby_SK-"
      },
      "source": [
        "Changing the number of trainable layers doesn't affect the test accuracy too much. "
      ]
    },
    {
      "cell_type": "code",
      "execution_count": null,
      "metadata": {
        "execution": {
          "iopub.execute_input": "2021-03-26T15:36:38.477332Z",
          "iopub.status.busy": "2021-03-26T15:36:38.476469Z",
          "iopub.status.idle": "2021-03-26T15:36:38.488261Z",
          "shell.execute_reply": "2021-03-26T15:36:38.487850Z"
        },
        "papermill": {
          "duration": 0.529097,
          "end_time": "2021-03-26T15:36:38.488377",
          "exception": false,
          "start_time": "2021-03-26T15:36:37.959280",
          "status": "completed"
        },
        "tags": [],
        "id": "fLfr6aJd_SK-"
      },
      "outputs": [],
      "source": [
        "model3.compile(loss=tf.keras.losses.SparseCategoricalCrossentropy(from_logits=True),\n",
        "              optimizer = tf.keras.optimizers.Adam(lr=base_learning_rate/10),\n",
        "              metrics=['accuracy'])"
      ]
    },
    {
      "cell_type": "code",
      "execution_count": null,
      "metadata": {
        "execution": {
          "iopub.execute_input": "2021-03-26T15:36:40.011788Z",
          "iopub.status.busy": "2021-03-26T15:36:40.010650Z",
          "iopub.status.idle": "2021-03-26T15:36:40.017247Z",
          "shell.execute_reply": "2021-03-26T15:36:40.016836Z"
        },
        "papermill": {
          "duration": 0.845138,
          "end_time": "2021-03-26T15:36:40.017366",
          "exception": false,
          "start_time": "2021-03-26T15:36:39.172228",
          "status": "completed"
        },
        "tags": [],
        "id": "5gaskmTH_SK-"
      },
      "outputs": [],
      "source": [
        "model3.summary()"
      ]
    },
    {
      "cell_type": "code",
      "execution_count": null,
      "metadata": {
        "execution": {
          "iopub.execute_input": "2021-03-26T15:36:41.085184Z",
          "iopub.status.busy": "2021-03-26T15:36:41.084407Z",
          "iopub.status.idle": "2021-03-26T15:36:41.087787Z",
          "shell.execute_reply": "2021-03-26T15:36:41.088212Z"
        },
        "papermill": {
          "duration": 0.555696,
          "end_time": "2021-03-26T15:36:41.088348",
          "exception": false,
          "start_time": "2021-03-26T15:36:40.532652",
          "status": "completed"
        },
        "tags": [],
        "id": "OWyeuAQ9_SK_"
      },
      "outputs": [],
      "source": [
        "len(model3.trainable_variables)"
      ]
    },
    {
      "cell_type": "code",
      "execution_count": null,
      "metadata": {
        "execution": {
          "iopub.execute_input": "2021-03-26T15:36:42.118019Z",
          "iopub.status.busy": "2021-03-26T15:36:42.117177Z",
          "iopub.status.idle": "2021-03-26T15:38:27.263725Z",
          "shell.execute_reply": "2021-03-26T15:38:27.262785Z"
        },
        "papermill": {
          "duration": 105.664375,
          "end_time": "2021-03-26T15:38:27.263868",
          "exception": false,
          "start_time": "2021-03-26T15:36:41.599493",
          "status": "completed"
        },
        "tags": [],
        "id": "Rnc_LZv3_SK_"
      },
      "outputs": [],
      "source": [
        "fine_tune_epochs = 10\n",
        "total_epochs =  initial_epochs + fine_tune_epochs\n",
        "\n",
        "history_fine = model3.fit(train,\n",
        "                         epochs=total_epochs,\n",
        "                         initial_epoch=history_base.epoch[-1],\n",
        "                         validation_data=val)"
      ]
    },
    {
      "cell_type": "code",
      "execution_count": null,
      "metadata": {
        "execution": {
          "iopub.execute_input": "2021-03-26T15:38:28.719550Z",
          "iopub.status.busy": "2021-03-26T15:38:28.718989Z",
          "iopub.status.idle": "2021-03-26T15:38:28.722710Z",
          "shell.execute_reply": "2021-03-26T15:38:28.723085Z"
        },
        "papermill": {
          "duration": 0.730697,
          "end_time": "2021-03-26T15:38:28.723222",
          "exception": false,
          "start_time": "2021-03-26T15:38:27.992525",
          "status": "completed"
        },
        "tags": [],
        "id": "b07uF7Gu_SK_"
      },
      "outputs": [],
      "source": [
        "acc += history_fine.history['accuracy']\n",
        "val_acc += history_fine.history['val_accuracy']\n",
        "\n",
        "loss += history_fine.history['loss']\n",
        "val_loss += history_fine.history['val_loss']"
      ]
    },
    {
      "cell_type": "code",
      "execution_count": null,
      "metadata": {
        "execution": {
          "iopub.execute_input": "2021-03-26T15:38:30.401086Z",
          "iopub.status.busy": "2021-03-26T15:38:30.400161Z",
          "iopub.status.idle": "2021-03-26T15:38:30.715414Z",
          "shell.execute_reply": "2021-03-26T15:38:30.715887Z"
        },
        "papermill": {
          "duration": 1.265623,
          "end_time": "2021-03-26T15:38:30.716048",
          "exception": false,
          "start_time": "2021-03-26T15:38:29.450425",
          "status": "completed"
        },
        "tags": [],
        "id": "noVxKdD5_SK_"
      },
      "outputs": [],
      "source": [
        "plt.figure(figsize=(8, 8))\n",
        "plt.subplot(2, 1, 1)\n",
        "plt.plot(acc, label='Training Accuracy')\n",
        "plt.plot(val_acc, label='Validation Accuracy')\n",
        "plt.ylim([0.8, 1])\n",
        "plt.plot([initial_epochs-1,initial_epochs-1],\n",
        "          plt.ylim(), label='Start Fine Tuning')\n",
        "plt.legend(loc='lower right')\n",
        "plt.title('Training and Validation Accuracy',fontdict = {'fontsize': '14',\n",
        "                              'color': 'white'})\n",
        "\n",
        "plt.subplot(2, 1, 2)\n",
        "plt.plot(loss, label='Training Loss')\n",
        "plt.plot(val_loss, label='Validation Loss')\n",
        "plt.ylim([0, 1.0])\n",
        "plt.plot([initial_epochs-1,initial_epochs-1],\n",
        "         plt.ylim(), label='Start Fine Tuning')\n",
        "plt.legend(loc='upper right')\n",
        "plt.title('Training and Validation Loss',fontdict = {'fontsize': '14',\n",
        "                              'color': 'white'})\n",
        "plt.xlabel('epoch')\n",
        "plt.show()"
      ]
    },
    {
      "cell_type": "code",
      "execution_count": null,
      "metadata": {
        "execution": {
          "iopub.execute_input": "2021-03-26T15:38:32.215823Z",
          "iopub.status.busy": "2021-03-26T15:38:32.214982Z",
          "iopub.status.idle": "2021-03-26T15:38:33.539434Z",
          "shell.execute_reply": "2021-03-26T15:38:33.540030Z"
        },
        "papermill": {
          "duration": 2.062258,
          "end_time": "2021-03-26T15:38:33.540226",
          "exception": false,
          "start_time": "2021-03-26T15:38:31.477968",
          "status": "completed"
        },
        "tags": [],
        "id": "KQijz75J_SK_"
      },
      "outputs": [],
      "source": [
        "loss, accuracy = model3.evaluate(test)\n",
        "print('Test accuracy :', accuracy)"
      ]
    },
    {
      "cell_type": "code",
      "execution_count": null,
      "metadata": {
        "execution": {
          "iopub.execute_input": "2021-03-26T15:38:35.013751Z",
          "iopub.status.busy": "2021-03-26T15:38:35.012947Z",
          "iopub.status.idle": "2021-03-26T15:38:35.197822Z",
          "shell.execute_reply": "2021-03-26T15:38:35.198252Z"
        },
        "papermill": {
          "duration": 0.919596,
          "end_time": "2021-03-26T15:38:35.198392",
          "exception": false,
          "start_time": "2021-03-26T15:38:34.278796",
          "status": "completed"
        },
        "tags": [],
        "id": "wClpSf-Z_SK_"
      },
      "outputs": [],
      "source": [
        "list_of_paths = ['../input/brain-tumor-classification-mri/Testing/pituitary_tumor/image(20).jpg',\n",
        "                '../input/brain-tumor-classification-mri/Testing/no_tumor/image(11).jpg',\n",
        "                '../input/brain-tumor-classification-mri/Testing/meningioma_tumor/image(120).jpg',\n",
        "                '../input/brain-tumor-classification-mri/Testing/glioma_tumor/image(16).jpg',\n",
        "                '../input/brain-mri-images-for-brain-tumor-detection/yes/Y100.JPG']\n",
        "test_tumor(list_of_paths,model)"
      ]
    },
    {
      "cell_type": "markdown",
      "metadata": {
        "papermill": {
          "duration": 0.731894,
          "end_time": "2021-03-26T15:38:36.933387",
          "exception": false,
          "start_time": "2021-03-26T15:38:36.201493",
          "status": "completed"
        },
        "tags": [],
        "id": "BIfC1QQG_SK_"
      },
      "source": [
        "prediction_label_comparison is defined [here](#compare)"
      ]
    },
    {
      "cell_type": "code",
      "execution_count": null,
      "metadata": {
        "execution": {
          "iopub.execute_input": "2021-03-26T15:38:38.405268Z",
          "iopub.status.busy": "2021-03-26T15:38:38.404467Z",
          "iopub.status.idle": "2021-03-26T15:38:41.247800Z",
          "shell.execute_reply": "2021-03-26T15:38:41.247127Z"
        },
        "papermill": {
          "duration": 3.587755,
          "end_time": "2021-03-26T15:38:41.247971",
          "exception": false,
          "start_time": "2021-03-26T15:38:37.660216",
          "status": "completed"
        },
        "tags": [],
        "id": "xNArIfkG_SLA"
      },
      "outputs": [],
      "source": [
        "labels_entire = []\n",
        "pred_entire = []\n",
        "for image_batch,label_batch in test.as_numpy_iterator():\n",
        "    prediction = model3.predict_on_batch(image_batch).flatten()\n",
        "\n",
        "    # Apply a sigmoid since our model returns logits\n",
        "    predictions = tf.nn.sigmoid(prediction).numpy()\n",
        "\n",
        "    n = 0\n",
        "    predict = []\n",
        "    while n<=(predictions.shape[0]-4):\n",
        "        pred = np.argmax(predictions[n:n+4]) #Returns the index of the largest element in the selected subarray\n",
        "        n+=4\n",
        "        pred_entire.append(pred)\n",
        "    for el in label_batch:\n",
        "        labels_entire.append(el)\n",
        "pred_entire = np.array(pred_entire)\n",
        "labels_entire = np.array(labels_entire)\n",
        "print(pred_entire)\n",
        "print(labels_entire)"
      ]
    },
    {
      "cell_type": "code",
      "execution_count": null,
      "metadata": {
        "execution": {
          "iopub.execute_input": "2021-03-26T15:38:42.726428Z",
          "iopub.status.busy": "2021-03-26T15:38:42.725914Z",
          "iopub.status.idle": "2021-03-26T15:38:42.731715Z",
          "shell.execute_reply": "2021-03-26T15:38:42.731248Z"
        },
        "papermill": {
          "duration": 0.764584,
          "end_time": "2021-03-26T15:38:42.731833",
          "exception": false,
          "start_time": "2021-03-26T15:38:41.967249",
          "status": "completed"
        },
        "tags": [],
        "id": "d4AZBfTt_SLA"
      },
      "outputs": [],
      "source": [
        "labels_entire.shape"
      ]
    },
    {
      "cell_type": "code",
      "execution_count": null,
      "metadata": {
        "execution": {
          "iopub.execute_input": "2021-03-26T15:38:44.208908Z",
          "iopub.status.busy": "2021-03-26T15:38:44.208239Z",
          "iopub.status.idle": "2021-03-26T15:38:44.214577Z",
          "shell.execute_reply": "2021-03-26T15:38:44.214133Z"
        },
        "papermill": {
          "duration": 0.759578,
          "end_time": "2021-03-26T15:38:44.214700",
          "exception": false,
          "start_time": "2021-03-26T15:38:43.455122",
          "status": "completed"
        },
        "tags": [],
        "id": "jR6IPqei_SLA"
      },
      "outputs": [],
      "source": [
        "pred_entire.shape"
      ]
    },
    {
      "cell_type": "code",
      "execution_count": null,
      "metadata": {
        "execution": {
          "iopub.execute_input": "2021-03-26T15:38:45.672651Z",
          "iopub.status.busy": "2021-03-26T15:38:45.671840Z",
          "iopub.status.idle": "2021-03-26T15:38:45.680295Z",
          "shell.execute_reply": "2021-03-26T15:38:45.681016Z"
        },
        "papermill": {
          "duration": 0.738648,
          "end_time": "2021-03-26T15:38:45.681198",
          "exception": false,
          "start_time": "2021-03-26T15:38:44.942550",
          "status": "completed"
        },
        "tags": [],
        "id": "ZyBIbpnP_SLA"
      },
      "outputs": [],
      "source": [
        "print(classification_report(labels_entire, pred_entire, target_names=classes))"
      ]
    },
    {
      "cell_type": "markdown",
      "metadata": {
        "papermill": {
          "duration": 0.974389,
          "end_time": "2021-03-26T15:38:47.376570",
          "exception": false,
          "start_time": "2021-03-26T15:38:46.402181",
          "status": "completed"
        },
        "tags": [],
        "id": "N3ZtLchU_SLA"
      },
      "source": [
        "# Using k-fold cross validation"
      ]
    },
    {
      "cell_type": "markdown",
      "metadata": {
        "papermill": {
          "duration": 0.722355,
          "end_time": "2021-03-26T15:38:48.874302",
          "exception": false,
          "start_time": "2021-03-26T15:38:48.151947",
          "status": "completed"
        },
        "tags": [],
        "id": "01-oV4T3_SLA"
      },
      "source": [
        "### Reference article for the k-fold cross validation: [Link](https://medium.com/the-owl/k-fold-cross-validation-in-keras-3ec4a3a00538)\n",
        "### Building a .csv file for the images along with their labels: [Reference](https://datascience.stackexchange.com/questions/49094/how-to-transform-a-folder-of-images-into-csv-file)"
      ]
    },
    {
      "cell_type": "code",
      "execution_count": null,
      "metadata": {
        "execution": {
          "iopub.execute_input": "2021-03-26T15:38:50.352603Z",
          "iopub.status.busy": "2021-03-26T15:38:50.351830Z",
          "iopub.status.idle": "2021-03-26T15:38:50.355412Z",
          "shell.execute_reply": "2021-03-26T15:38:50.355022Z"
        },
        "papermill": {
          "duration": 0.759804,
          "end_time": "2021-03-26T15:38:50.355546",
          "exception": false,
          "start_time": "2021-03-26T15:38:49.595742",
          "status": "completed"
        },
        "tags": [],
        "id": "6tFxdUuo_SLA"
      },
      "outputs": [],
      "source": [
        "path_data"
      ]
    },
    {
      "cell_type": "code",
      "execution_count": null,
      "metadata": {
        "execution": {
          "iopub.execute_input": "2021-03-26T15:38:52.296811Z",
          "iopub.status.busy": "2021-03-26T15:38:52.296273Z",
          "iopub.status.idle": "2021-03-26T15:38:52.303641Z",
          "shell.execute_reply": "2021-03-26T15:38:52.303206Z"
        },
        "papermill": {
          "duration": 1.007839,
          "end_time": "2021-03-26T15:38:52.303757",
          "exception": false,
          "start_time": "2021-03-26T15:38:51.295918",
          "status": "completed"
        },
        "tags": [],
        "id": "tqwwkU7M_SLB"
      },
      "outputs": [],
      "source": [
        "label_names = os.listdir(path_data)\n",
        "label_names"
      ]
    },
    {
      "cell_type": "markdown",
      "metadata": {
        "papermill": {
          "duration": 0.725176,
          "end_time": "2021-03-26T15:38:53.754334",
          "exception": false,
          "start_time": "2021-03-26T15:38:53.029158",
          "status": "completed"
        },
        "tags": [],
        "id": "pvf0JPuS_SLB"
      },
      "source": [
        "### Functions csv_builder() and cross_validation() have been defined in the [helper functions](#helper)"
      ]
    },
    {
      "cell_type": "code",
      "execution_count": null,
      "metadata": {
        "execution": {
          "iopub.execute_input": "2021-03-26T15:38:55.216377Z",
          "iopub.status.busy": "2021-03-26T15:38:55.215866Z",
          "iopub.status.idle": "2021-03-26T15:39:00.979451Z",
          "shell.execute_reply": "2021-03-26T15:39:00.979023Z"
        },
        "papermill": {
          "duration": 6.499618,
          "end_time": "2021-03-26T15:39:00.979593",
          "exception": false,
          "start_time": "2021-03-26T15:38:54.479975",
          "status": "completed"
        },
        "tags": [],
        "id": "KZ7XVhkg_SLB"
      },
      "outputs": [],
      "source": [
        "final_csv = csv_builder(path_data,label_names)\n",
        "final_csv"
      ]
    },
    {
      "cell_type": "code",
      "execution_count": null,
      "metadata": {
        "execution": {
          "iopub.execute_input": "2021-03-26T15:39:02.466365Z",
          "iopub.status.busy": "2021-03-26T15:39:02.465817Z",
          "iopub.status.idle": "2021-03-26T15:39:02.586948Z",
          "shell.execute_reply": "2021-03-26T15:39:02.586349Z"
        },
        "papermill": {
          "duration": 0.879349,
          "end_time": "2021-03-26T15:39:02.587095",
          "exception": false,
          "start_time": "2021-03-26T15:39:01.707746",
          "status": "completed"
        },
        "tags": [],
        "id": "_pgl9SMG_SLB"
      },
      "outputs": [],
      "source": [
        "final_csv.to_csv('files_path.csv', header=None)"
      ]
    },
    {
      "cell_type": "code",
      "execution_count": null,
      "metadata": {
        "execution": {
          "iopub.execute_input": "2021-03-26T15:39:04.039285Z",
          "iopub.status.busy": "2021-03-26T15:39:04.038744Z",
          "iopub.status.idle": "2021-03-26T15:39:04.042637Z",
          "shell.execute_reply": "2021-03-26T15:39:04.042189Z"
        },
        "papermill": {
          "duration": 0.734041,
          "end_time": "2021-03-26T15:39:04.042749",
          "exception": false,
          "start_time": "2021-03-26T15:39:03.308708",
          "status": "completed"
        },
        "tags": [],
        "id": "713ubDU7_SLB"
      },
      "outputs": [],
      "source": [
        "path_of_csv = './files_path.csv'"
      ]
    },
    {
      "cell_type": "code",
      "execution_count": null,
      "metadata": {
        "execution": {
          "iopub.execute_input": "2021-03-26T15:39:05.497230Z",
          "iopub.status.busy": "2021-03-26T15:39:05.496710Z",
          "iopub.status.idle": "2021-03-26T15:39:06.245738Z",
          "shell.execute_reply": "2021-03-26T15:39:06.244901Z"
        },
        "papermill": {
          "duration": 1.480163,
          "end_time": "2021-03-26T15:39:06.245925",
          "exception": false,
          "start_time": "2021-03-26T15:39:04.765762",
          "status": "completed"
        },
        "tags": [],
        "id": "3q_COVuf_SLB"
      },
      "outputs": [],
      "source": [
        "test_csv = csv_builder(path_test,label_names)\n",
        "test_csv"
      ]
    },
    {
      "cell_type": "code",
      "execution_count": null,
      "metadata": {
        "execution": {
          "iopub.execute_input": "2021-03-26T15:39:07.719294Z",
          "iopub.status.busy": "2021-03-26T15:39:07.718425Z",
          "iopub.status.idle": "2021-03-26T15:39:07.723429Z",
          "shell.execute_reply": "2021-03-26T15:39:07.723002Z"
        },
        "papermill": {
          "duration": 0.755104,
          "end_time": "2021-03-26T15:39:07.723564",
          "exception": false,
          "start_time": "2021-03-26T15:39:06.968460",
          "status": "completed"
        },
        "tags": [],
        "id": "y5E_wXNM_SLB"
      },
      "outputs": [],
      "source": [
        "test_csv = test_csv.sample(frac=1)\n",
        "test_csv"
      ]
    },
    {
      "cell_type": "markdown",
      "metadata": {
        "papermill": {
          "duration": 0.978657,
          "end_time": "2021-03-26T15:39:09.426300",
          "exception": false,
          "start_time": "2021-03-26T15:39:08.447643",
          "status": "completed"
        },
        "tags": [],
        "id": "vFIrENc6_SLC"
      },
      "source": [
        "### Defining number of folds"
      ]
    },
    {
      "cell_type": "code",
      "execution_count": null,
      "metadata": {
        "execution": {
          "iopub.execute_input": "2021-03-26T15:39:10.930015Z",
          "iopub.status.busy": "2021-03-26T15:39:10.929274Z",
          "iopub.status.idle": "2021-03-26T15:39:10.932179Z",
          "shell.execute_reply": "2021-03-26T15:39:10.931776Z"
        },
        "papermill": {
          "duration": 0.763004,
          "end_time": "2021-03-26T15:39:10.932291",
          "exception": false,
          "start_time": "2021-03-26T15:39:10.169287",
          "status": "completed"
        },
        "tags": [],
        "id": "OIj7IKI5_SLC"
      },
      "outputs": [],
      "source": [
        "k = 5"
      ]
    },
    {
      "cell_type": "markdown",
      "metadata": {
        "papermill": {
          "duration": 0.729199,
          "end_time": "2021-03-26T15:39:12.393764",
          "exception": false,
          "start_time": "2021-03-26T15:39:11.664565",
          "status": "completed"
        },
        "tags": [],
        "id": "Wnt9iSCw_SLC"
      },
      "source": [
        "### Now this csv file can be used to create a kfold split in the training data"
      ]
    },
    {
      "cell_type": "markdown",
      "metadata": {
        "papermill": {
          "duration": 0.722154,
          "end_time": "2021-03-26T15:39:13.847448",
          "exception": false,
          "start_time": "2021-03-26T15:39:13.125294",
          "status": "completed"
        },
        "tags": [],
        "id": "dMTVotER_SLC"
      },
      "source": [
        "## Cross validation on the [first model](#first_model)"
      ]
    },
    {
      "cell_type": "code",
      "execution_count": null,
      "metadata": {
        "execution": {
          "iopub.execute_input": "2021-03-26T15:39:15.305700Z",
          "iopub.status.busy": "2021-03-26T15:39:15.304847Z",
          "iopub.status.idle": "2021-03-26T15:39:15.316942Z",
          "shell.execute_reply": "2021-03-26T15:39:15.317420Z"
        },
        "papermill": {
          "duration": 0.746615,
          "end_time": "2021-03-26T15:39:15.317589",
          "exception": false,
          "start_time": "2021-03-26T15:39:14.570974",
          "status": "completed"
        },
        "tags": [],
        "id": "rHXQMwFt_SLC"
      },
      "outputs": [],
      "source": [
        "num_classes = 4\n",
        "\n",
        "model = tf.keras.Sequential([\n",
        "  normalization_layer,\n",
        "  conv_layer_32,\n",
        "  max_pool,\n",
        "  conv_layer_32,\n",
        "  max_pool,\n",
        "  conv_layer_32,\n",
        "  max_pool,\n",
        "  layers.Flatten(),\n",
        "  layers.Dense(128, activation='relu'),\n",
        "  layers.Dense(num_classes,activation='softmax')\n",
        "])\n",
        "model.compile(\n",
        "  optimizer='adam',\n",
        "  loss=tf.losses.SparseCategoricalCrossentropy(from_logits=True),\n",
        "  metrics=['accuracy'])"
      ]
    },
    {
      "cell_type": "code",
      "execution_count": null,
      "metadata": {
        "execution": {
          "iopub.execute_input": "2021-03-26T15:39:16.776773Z",
          "iopub.status.busy": "2021-03-26T15:39:16.776089Z",
          "iopub.status.idle": "2021-03-26T15:55:46.485735Z",
          "shell.execute_reply": "2021-03-26T15:55:46.485248Z"
        },
        "papermill": {
          "duration": 990.440752,
          "end_time": "2021-03-26T15:55:46.485874",
          "exception": false,
          "start_time": "2021-03-26T15:39:16.045122",
          "status": "completed"
        },
        "tags": [],
        "id": "TGegsp60_SLC"
      },
      "outputs": [],
      "source": [
        "loss,acc,model = cross_validation(k,final_csv,test_csv,img_width,img_height,model = model)"
      ]
    },
    {
      "cell_type": "code",
      "execution_count": null,
      "metadata": {
        "execution": {
          "iopub.execute_input": "2021-03-26T15:55:48.015822Z",
          "iopub.status.busy": "2021-03-26T15:55:48.015132Z",
          "iopub.status.idle": "2021-03-26T15:55:48.018546Z",
          "shell.execute_reply": "2021-03-26T15:55:48.019191Z"
        },
        "papermill": {
          "duration": 0.780157,
          "end_time": "2021-03-26T15:55:48.019405",
          "exception": false,
          "start_time": "2021-03-26T15:55:47.239248",
          "status": "completed"
        },
        "tags": [],
        "id": "1A191AHH_SLC"
      },
      "outputs": [],
      "source": [
        "print(loss,acc)"
      ]
    },
    {
      "cell_type": "code",
      "execution_count": null,
      "metadata": {
        "execution": {
          "iopub.execute_input": "2021-03-26T15:55:49.551767Z",
          "iopub.status.busy": "2021-03-26T15:55:49.550943Z",
          "iopub.status.idle": "2021-03-26T15:55:51.203487Z",
          "shell.execute_reply": "2021-03-26T15:55:51.202684Z"
        },
        "papermill": {
          "duration": 2.412689,
          "end_time": "2021-03-26T15:55:51.203670",
          "exception": false,
          "start_time": "2021-03-26T15:55:48.790981",
          "status": "completed"
        },
        "tags": [],
        "id": "pJ0AKrKo_SLC"
      },
      "outputs": [],
      "source": [
        "labels_entire = []\n",
        "pred_entire = []\n",
        "for image_batch,label_batch in test.as_numpy_iterator():\n",
        "    prediction = model.predict_on_batch(image_batch).flatten()\n",
        "\n",
        "    # Apply a sigmoid since our model returns logits\n",
        "    predictions = tf.nn.sigmoid(prediction).numpy()\n",
        "\n",
        "    n = 0\n",
        "    predict = []\n",
        "    while n<=(predictions.shape[0]-4):\n",
        "        pred = np.argmax(predictions[n:n+4]) #Returns the index of the largest element in the selected subarray\n",
        "        n+=4\n",
        "        pred_entire.append(pred)\n",
        "    for el in label_batch:\n",
        "        labels_entire.append(el)\n",
        "pred_entire = np.array(pred_entire)\n",
        "labels_entire = np.array(labels_entire)\n",
        "print(pred_entire)\n",
        "print(labels_entire)"
      ]
    },
    {
      "cell_type": "code",
      "execution_count": null,
      "metadata": {
        "execution": {
          "iopub.execute_input": "2021-03-26T15:55:52.710488Z",
          "iopub.status.busy": "2021-03-26T15:55:52.709748Z",
          "iopub.status.idle": "2021-03-26T15:55:52.723706Z",
          "shell.execute_reply": "2021-03-26T15:55:52.724233Z"
        },
        "papermill": {
          "duration": 0.771349,
          "end_time": "2021-03-26T15:55:52.724420",
          "exception": false,
          "start_time": "2021-03-26T15:55:51.953071",
          "status": "completed"
        },
        "tags": [],
        "id": "GqgNLgV8_SLD"
      },
      "outputs": [],
      "source": [
        "print(classification_report(labels_entire, pred_entire, target_names=classes))"
      ]
    },
    {
      "cell_type": "markdown",
      "metadata": {
        "papermill": {
          "duration": 0.746595,
          "end_time": "2021-03-26T15:55:54.251980",
          "exception": false,
          "start_time": "2021-03-26T15:55:53.505385",
          "status": "completed"
        },
        "tags": [],
        "id": "YmxHoQOW_SLD"
      },
      "source": [
        "## Cross Validation on [Second Model](#second_model)"
      ]
    },
    {
      "cell_type": "code",
      "execution_count": null,
      "metadata": {
        "execution": {
          "iopub.execute_input": "2021-03-26T15:55:55.762846Z",
          "iopub.status.busy": "2021-03-26T15:55:55.762166Z",
          "iopub.status.idle": "2021-03-26T15:55:55.774985Z",
          "shell.execute_reply": "2021-03-26T15:55:55.774452Z"
        },
        "papermill": {
          "duration": 0.77363,
          "end_time": "2021-03-26T15:55:55.775099",
          "exception": false,
          "start_time": "2021-03-26T15:55:55.001469",
          "status": "completed"
        },
        "tags": [],
        "id": "9_GpUTGD_SLD"
      },
      "outputs": [],
      "source": [
        "num_classes = 4\n",
        "\n",
        "model2 = tf.keras.Sequential([\n",
        "  #data_augmentation,\n",
        "  normalization_layer,\n",
        "  #tf.keras.layers.Conv2D(32,3,activation='relu'),\n",
        "  layers.Conv2D(32,(3,3),activation='relu'),\n",
        "  layers.MaxPooling2D(),#pool_size=(2,2)),\n",
        "  layers.Conv2D(32,(3,3),activation='relu'),\n",
        "  layers.MaxPooling2D(),#pool_size=(2,2)),\n",
        "  layers.Flatten(),\n",
        "  layers.Dense(128, activation='relu'),\n",
        "  layers.Dropout(0.25),\n",
        "  layers.Dense(num_classes,activation='softmax')\n",
        "])\n",
        "model2.compile(optimizer='adam',\n",
        "              loss=tf.keras.losses.SparseCategoricalCrossentropy(from_logits=True),\n",
        "              metrics=['accuracy'])"
      ]
    },
    {
      "cell_type": "code",
      "execution_count": null,
      "metadata": {
        "execution": {
          "iopub.execute_input": "2021-03-26T15:55:57.280663Z",
          "iopub.status.busy": "2021-03-26T15:55:57.279844Z",
          "iopub.status.idle": "2021-03-26T16:12:36.794988Z",
          "shell.execute_reply": "2021-03-26T16:12:36.794421Z"
        },
        "papermill": {
          "duration": 1000.272747,
          "end_time": "2021-03-26T16:12:36.795122",
          "exception": false,
          "start_time": "2021-03-26T15:55:56.522375",
          "status": "completed"
        },
        "tags": [],
        "id": "jX-bVOjl_SLD"
      },
      "outputs": [],
      "source": [
        "loss,acc,model2 = cross_validation(k,final_csv,test_csv,img_width,img_height,model = model2)\n",
        "print(loss,acc)"
      ]
    },
    {
      "cell_type": "code",
      "execution_count": null,
      "metadata": {
        "execution": {
          "iopub.execute_input": "2021-03-26T16:12:38.352569Z",
          "iopub.status.busy": "2021-03-26T16:12:38.351756Z",
          "iopub.status.idle": "2021-03-26T16:12:40.189184Z",
          "shell.execute_reply": "2021-03-26T16:12:40.188506Z"
        },
        "papermill": {
          "duration": 2.610273,
          "end_time": "2021-03-26T16:12:40.189343",
          "exception": false,
          "start_time": "2021-03-26T16:12:37.579070",
          "status": "completed"
        },
        "tags": [],
        "id": "49tJA7iF_SLD"
      },
      "outputs": [],
      "source": [
        "labels_entire = []\n",
        "pred_entire = []\n",
        "for image_batch,label_batch in test.as_numpy_iterator():\n",
        "    prediction = model2.predict_on_batch(image_batch).flatten()\n",
        "\n",
        "    # Apply a sigmoid since our model returns logits\n",
        "    predictions = tf.nn.sigmoid(prediction).numpy()\n",
        "\n",
        "    n = 0\n",
        "    predict = []\n",
        "    while n<=(predictions.shape[0]-4):\n",
        "        pred = np.argmax(predictions[n:n+4]) #Returns the index of the largest element in the selected subarray\n",
        "        n+=4\n",
        "        pred_entire.append(pred)\n",
        "    for el in label_batch:\n",
        "        labels_entire.append(el)\n",
        "pred_entire = np.array(pred_entire)\n",
        "labels_entire = np.array(labels_entire)\n",
        "print(pred_entire)\n",
        "print(labels_entire)"
      ]
    },
    {
      "cell_type": "code",
      "execution_count": null,
      "metadata": {
        "execution": {
          "iopub.execute_input": "2021-03-26T16:12:41.968035Z",
          "iopub.status.busy": "2021-03-26T16:12:41.967218Z",
          "iopub.status.idle": "2021-03-26T16:12:41.978220Z",
          "shell.execute_reply": "2021-03-26T16:12:41.979074Z"
        },
        "papermill": {
          "duration": 0.980624,
          "end_time": "2021-03-26T16:12:41.979256",
          "exception": false,
          "start_time": "2021-03-26T16:12:40.998632",
          "status": "completed"
        },
        "tags": [],
        "id": "evmPAs0K_SLD"
      },
      "outputs": [],
      "source": [
        "print(classification_report(labels_entire, pred_entire, target_names=classes))"
      ]
    },
    {
      "cell_type": "markdown",
      "metadata": {
        "papermill": {
          "duration": 0.765561,
          "end_time": "2021-03-26T16:12:43.630310",
          "exception": false,
          "start_time": "2021-03-26T16:12:42.864749",
          "status": "completed"
        },
        "tags": [],
        "id": "6l2Y9NKQ_SLE"
      },
      "source": [
        "## Cross Validation on Third Model"
      ]
    },
    {
      "cell_type": "code",
      "execution_count": null,
      "metadata": {
        "execution": {
          "iopub.execute_input": "2021-03-26T16:12:45.161371Z",
          "iopub.status.busy": "2021-03-26T16:12:45.160846Z",
          "iopub.status.idle": "2021-03-26T16:12:45.172567Z",
          "shell.execute_reply": "2021-03-26T16:12:45.172143Z"
        },
        "papermill": {
          "duration": 0.781453,
          "end_time": "2021-03-26T16:12:45.172739",
          "exception": false,
          "start_time": "2021-03-26T16:12:44.391286",
          "status": "completed"
        },
        "tags": [],
        "id": "rpr6e-JC_SLE"
      },
      "outputs": [],
      "source": [
        "model3 = tf.keras.Sequential([normalization_layer,\n",
        "                                  conv_layer_32,\n",
        "                                  max_pool,\n",
        "                                  #layers.MaxPooling2D(pool_size=(2,2)),\n",
        "                                  conv_layer_32,\n",
        "                                  max_pool,\n",
        "                                  #layers.MaxPooling2D(pool_size=(2,2)),\n",
        "                                  layers.Flatten(),\n",
        "                                  layers.Dense(128, activation='relu'),\n",
        "                                  #layers.Dropout(0.25),\n",
        "                                  layers.Dense(num_classes,activation='softmax')\n",
        "                                 ])\n",
        "model3.compile(optimizer='adam',\n",
        "                   loss=tf.keras.losses.SparseCategoricalCrossentropy(from_logits=True),\n",
        "                   metrics=['accuracy'])"
      ]
    },
    {
      "cell_type": "code",
      "execution_count": null,
      "metadata": {
        "execution": {
          "iopub.execute_input": "2021-03-26T16:12:46.718840Z",
          "iopub.status.busy": "2021-03-26T16:12:46.713970Z",
          "iopub.status.idle": "2021-03-26T16:29:06.416230Z",
          "shell.execute_reply": "2021-03-26T16:29:06.415396Z"
        },
        "papermill": {
          "duration": 980.479148,
          "end_time": "2021-03-26T16:29:06.416400",
          "exception": false,
          "start_time": "2021-03-26T16:12:45.937252",
          "status": "completed"
        },
        "tags": [],
        "id": "Cwq4cvvI_SLE"
      },
      "outputs": [],
      "source": [
        "loss,acc,model3 = cross_validation(k,final_csv,test_csv,img_width,img_height,model3)\n",
        "print(loss,acc)"
      ]
    },
    {
      "cell_type": "code",
      "execution_count": null,
      "metadata": {
        "execution": {
          "iopub.execute_input": "2021-03-26T16:29:08.001248Z",
          "iopub.status.busy": "2021-03-26T16:29:08.000374Z",
          "iopub.status.idle": "2021-03-26T16:29:09.370551Z",
          "shell.execute_reply": "2021-03-26T16:29:09.370059Z"
        },
        "papermill": {
          "duration": 2.168116,
          "end_time": "2021-03-26T16:29:09.370742",
          "exception": false,
          "start_time": "2021-03-26T16:29:07.202626",
          "status": "completed"
        },
        "tags": [],
        "id": "xVBqHpEd_SLE"
      },
      "outputs": [],
      "source": [
        "labels_entire = []\n",
        "pred_entire = []\n",
        "for image_batch,label_batch in test.as_numpy_iterator():\n",
        "    prediction = model3.predict_on_batch(image_batch).flatten()\n",
        "\n",
        "    # Apply a sigmoid since our model returns logits\n",
        "    predictions = tf.nn.sigmoid(prediction).numpy()\n",
        "\n",
        "    n = 0\n",
        "    predict = []\n",
        "    while n<=(predictions.shape[0]-4):\n",
        "        pred = np.argmax(predictions[n:n+4]) #Returns the index of the largest element in the selected subarray\n",
        "        n+=4\n",
        "        pred_entire.append(pred)\n",
        "    for el in label_batch:\n",
        "        labels_entire.append(el)\n",
        "pred_entire = np.array(pred_entire)\n",
        "labels_entire = np.array(labels_entire)\n",
        "print(pred_entire)\n",
        "print(labels_entire)"
      ]
    },
    {
      "cell_type": "code",
      "execution_count": null,
      "metadata": {
        "execution": {
          "iopub.execute_input": "2021-03-26T16:29:10.992281Z",
          "iopub.status.busy": "2021-03-26T16:29:10.991135Z",
          "iopub.status.idle": "2021-03-26T16:29:11.001494Z",
          "shell.execute_reply": "2021-03-26T16:29:11.000842Z"
        },
        "papermill": {
          "duration": 0.812786,
          "end_time": "2021-03-26T16:29:11.001672",
          "exception": false,
          "start_time": "2021-03-26T16:29:10.188886",
          "status": "completed"
        },
        "tags": [],
        "id": "0TAJYsh3_SLE"
      },
      "outputs": [],
      "source": [
        "print(classification_report(labels_entire, pred_entire, target_names=classes))"
      ]
    },
    {
      "cell_type": "code",
      "execution_count": null,
      "metadata": {
        "papermill": {
          "duration": 0.912231,
          "end_time": "2021-03-26T16:29:12.850064",
          "exception": false,
          "start_time": "2021-03-26T16:29:11.937833",
          "status": "completed"
        },
        "tags": [],
        "id": "sFkPlZvV_SLE"
      },
      "outputs": [],
      "source": [
        ""
      ]
    }
  ],
  "metadata": {
    "kernelspec": {
      "display_name": "Python 3",
      "language": "python",
      "name": "python3"
    },
    "language_info": {
      "codemirror_mode": {
        "name": "ipython",
        "version": 3
      },
      "file_extension": ".py",
      "mimetype": "text/x-python",
      "name": "python",
      "nbconvert_exporter": "python",
      "pygments_lexer": "ipython3",
      "version": "3.7.9"
    },
    "papermill": {
      "default_parameters": {},
      "duration": 3445.092951,
      "end_time": "2021-03-26T16:29:16.770067",
      "environment_variables": {},
      "exception": null,
      "input_path": "__notebook__.ipynb",
      "output_path": "__notebook__.ipynb",
      "parameters": {},
      "start_time": "2021-03-26T15:31:51.677116",
      "version": "2.2.2"
    },
    "colab": {
      "name": "brain-tumor-classification.ipynb",
      "provenance": []
    }
  },
  "nbformat": 4,
  "nbformat_minor": 0
}